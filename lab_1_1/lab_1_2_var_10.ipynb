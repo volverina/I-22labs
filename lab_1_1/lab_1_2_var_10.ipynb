{
  "nbformat": 4,
  "nbformat_minor": 0,
  "metadata": {
    "colab": {
      "provenance": []
    },
    "kernelspec": {
      "name": "python3",
      "display_name": "Python 3"
    },
    "language_info": {
      "name": "python"
    }
  },
  "cells": [
    {
      "cell_type": "markdown",
      "source": [
        "Лабораторна робота 1.1 студента С. О. Семерікова\n",
        "\n",
        "Варіант 10: Споживання електроенергії\n",
        "\n",
        "Опис: Залежність споживання електроенергії (кВт·год) від середньодобової температури (°C). Набір даних:\n",
        "\n",
        "x_train = np.array([-5, 0, 5, 10, 15, 20, 25, 30, 35])  # температура в °C\n",
        "\n",
        "y_train = np.array([320, 280, 240, 200, 170, 150, 170, 210, 260])  # споживання в кВт·год\n",
        "\n",
        "Рекомендовані параметри для початку:\n",
        "\n",
        "* w_init = -4\n",
        "* b_init = 200\n",
        "* alpha = 0.01\n",
        "* iterations = 10000\n"
      ],
      "metadata": {
        "id": "Sw7TyKmUZ85y"
      }
    },
    {
      "cell_type": "code",
      "source": [
        "w2_init = -4\n",
        "w1_init = -4\n",
        "b_init = 200\n",
        "alpha = 0.01\n",
        "iterations = 10000"
      ],
      "metadata": {
        "id": "68-LurrzbrX4"
      },
      "execution_count": 43,
      "outputs": []
    },
    {
      "cell_type": "markdown",
      "source": [
        "    2. Підготовка даних\n",
        "        * Імпортуйте необхідні бібліотеки\n",
        "        * Завантажте дані відповідно до вашого варіанту\n",
        "        * Візуалізуйте дані для розуміння їх структури"
      ],
      "metadata": {
        "id": "j8uU9zYKbMAT"
      }
    },
    {
      "cell_type": "code",
      "execution_count": 44,
      "metadata": {
        "colab": {
          "base_uri": "https://localhost:8080/",
          "height": 539
        },
        "id": "7vtca8f9Zhkj",
        "outputId": "57361bbb-5678-4542-def0-c39e92c6b4e4"
      },
      "outputs": [
        {
          "output_type": "execute_result",
          "data": {
            "text/plain": [
              "<matplotlib.collections.PathCollection at 0x780a08e57e50>"
            ]
          },
          "metadata": {},
          "execution_count": 44
        },
        {
          "output_type": "display_data",
          "data": {
            "text/plain": [
              "<Figure size 1000x600 with 1 Axes>"
            ],
            "image/png": "[encoded data removed]"
          },
          "metadata": {}
        }
      ],
      "source": [
        "import numpy as np\n",
        "import matplotlib.pyplot as plt\n",
        "\n",
        "x_train = np.array([-5, 0, 5, 10, 15, 20, 25, 30, 35]) # температура в °C\n",
        "y_train = np.array([320, 280, 240, 200, 170, 150, 170, 210, 260])  # споживання в кВт·год\n",
        "\n",
        "plt.figure(figsize=(10, 6))\n",
        "plt.scatter(x_train, y_train, marker='x', c='r', s=100, label='Навчальні дані')"
      ]
    },
    {
      "cell_type": "markdown",
      "source": [
        "1: $y_{обч} = f(x) = wx + b$ - погано\n",
        "\n",
        "2: $y_{обч} = w_2x^2 + w_1x + b$ - можливо, краще\n",
        "\n"
      ],
      "metadata": {
        "id": "JG44L1RXc09E"
      }
    },
    {
      "cell_type": "markdown",
      "source": [
        "    3. Реалізація функцій\n",
        "        * Реалізуйте функцію обчислення вихідних значень моделі compute_model_output\n",
        "        * Реалізуйте функцію обчислення вартості compute_cost\n",
        "        * Реалізуйте функцію обчислення градієнту compute_gradient\n",
        "        * Реалізуйте функцію градієнтного спуску gradient_descent"
      ],
      "metadata": {
        "id": "O0LvQOPDcump"
      }
    },
    {
      "cell_type": "code",
      "source": [
        "# 1. Функція обчислення моделі\n",
        "def compute_model_output(x, w1, w2, b):\n",
        "    \"\"\"\n",
        "    Обчислює прогноз лінійної моделі\n",
        "    Аргументи:\n",
        "      x (ndarray (m,)): Дані, m прикладів\n",
        "      w, b (скаляри): параметри моделі\n",
        "    Повертає:\n",
        "      y (ndarray (m,)): цільові значення\n",
        "    \"\"\"\n",
        "    m = x.shape[0]\n",
        "    f_wb = np.zeros(m)\n",
        "    for i in range(m):\n",
        "        f_wb[i] = w2 * x[i]*x[i] + w1 * x[i] + b\n",
        "\n",
        "    return f_wb"
      ],
      "metadata": {
        "id": "DTAPloRYcCdo"
      },
      "execution_count": 45,
      "outputs": []
    },
    {
      "cell_type": "code",
      "source": [
        "y_hat = compute_model_output(x_train, w1_init, w2_init, b_init)"
      ],
      "metadata": {
        "id": "4DW0vV7Vd6Qq"
      },
      "execution_count": 46,
      "outputs": []
    },
    {
      "cell_type": "code",
      "source": [
        "y_hat"
      ],
      "metadata": {
        "colab": {
          "base_uri": "https://localhost:8080/"
        },
        "id": "htqg8MEoeIbK",
        "outputId": "588ee8a4-9651-47e6-dc2b-2a2583b87ec2"
      },
      "execution_count": 47,
      "outputs": [
        {
          "output_type": "execute_result",
          "data": {
            "text/plain": [
              "array([  120.,   200.,    80.,  -240.,  -760., -1480., -2400., -3520.,\n",
              "       -4840.])"
            ]
          },
          "metadata": {},
          "execution_count": 47
        }
      ]
    },
    {
      "cell_type": "code",
      "source": [
        "y_train"
      ],
      "metadata": {
        "colab": {
          "base_uri": "https://localhost:8080/"
        },
        "id": "4iDivzBveJ2q",
        "outputId": "24c95e4e-a99b-48c7-b31e-ffa44d7a5e7c"
      },
      "execution_count": 48,
      "outputs": [
        {
          "output_type": "execute_result",
          "data": {
            "text/plain": [
              "array([320, 280, 240, 200, 170, 150, 170, 210, 260])"
            ]
          },
          "metadata": {},
          "execution_count": 48
        }
      ]
    },
    {
      "cell_type": "code",
      "source": [
        "# 2. Функція обчислення вартості\n",
        "def compute_cost(x, y, w1, w2, b):\n",
        "    \"\"\"\n",
        "    Обчислює функцію вартості для лінійної регресії\n",
        "    Аргументи:\n",
        "      x (ndarray (m,)): Дані, m прикладів\n",
        "      y (ndarray (m,)): цільові значення\n",
        "      w1, w2, b (скаляри): параметри моделі\n",
        "    Повертає:\n",
        "      total_cost (float): вартість використання w,b як параметрів для лінійної регресії\n",
        "    \"\"\"\n",
        "    m = x.shape[0]\n",
        "\n",
        "    total_cost = 0\n",
        "    f_wb = compute_model_output(x, w1, w2, b)\n",
        "    for i in range(m):\n",
        "        total_cost = total_cost + (f_wb[i] - y[i]) ** 2\n",
        "    total_cost = (1 / (2 * m)) * total_cost\n",
        "\n",
        "    return total_cost"
      ],
      "metadata": {
        "id": "CvtPJcSmeQFI"
      },
      "execution_count": 49,
      "outputs": []
    },
    {
      "cell_type": "code",
      "source": [
        "J = compute_cost(x_train, y_train, w1_init, w2_init, b_init)\n",
        "J"
      ],
      "metadata": {
        "colab": {
          "base_uri": "https://localhost:8080/"
        },
        "id": "teEZtkmQfQPz",
        "outputId": "28f640fd-9f5e-4e32-ac75-95395f45c4be"
      },
      "execution_count": 50,
      "outputs": [
        {
          "output_type": "execute_result",
          "data": {
            "text/plain": [
              "np.float64(2795288.8888888885)"
            ]
          },
          "metadata": {},
          "execution_count": 50
        }
      ]
    },
    {
      "cell_type": "code",
      "source": [
        "# 3. Функція обчислення градієнта\n",
        "def compute_gradient(x, y, w1, w2, b):\n",
        "    \"\"\"\n",
        "    Обчислює градієнт для лінійної регресії\n",
        "    Аргументи:\n",
        "      x (ndarray (m,)): Дані, m прикладів\n",
        "      y (ndarray (m,)): цільові значення\n",
        "      w1, w2, b (скаляри): параметри моделі\n",
        "    Повертає:\n",
        "      dj_dw1 (скаляр): Градієнт функції вартості відносно параметра w1\n",
        "      dj_dw2 (скаляр): Градієнт функції вартості відносно параметра w2\n",
        "      dj_db (скаляр): Градієнт функції вартості відносно параметра b\n",
        "    \"\"\"\n",
        "    m = x.shape[0]\n",
        "    dj_dw1 = 0\n",
        "    dj_dw2 = 0\n",
        "    dj_db = 0\n",
        "\n",
        "    f_wb = compute_model_output(x, w1, w2, b)\n",
        "    for i in range(m):\n",
        "        dj_dw1 += (f_wb[i] - y[i]) * x[i]\n",
        "        dj_dw2 += 2 * (f_wb[i] - y[i]) * x[i]\n",
        "        dj_db += (f_wb[i] - y[i]) * 1\n",
        "\n",
        "    dj_dw1 = dj_dw1 / m\n",
        "    dj_dw2 = dj_dw2 / m\n",
        "    dj_db = dj_db / m\n",
        "\n",
        "    return dj_dw1, dj_dw2, dj_db"
      ],
      "metadata": {
        "id": "69JaZLIsfbKI"
      },
      "execution_count": 51,
      "outputs": []
    },
    {
      "cell_type": "code",
      "source": [
        "dJ_dw1, dJ_dw2, dJ_db = compute_gradient(x_train, y_train, w1_init, w2_init, b_init)\n",
        "dJ_dw1, dJ_dw2, dJ_db"
      ],
      "metadata": {
        "colab": {
          "base_uri": "https://localhost:8080/"
        },
        "id": "2bjGWUYcgXof",
        "outputId": "9ce0f15f-c057-4140-e9e2-8f0b442a0a48"
      },
      "execution_count": 52,
      "outputs": [
        {
          "output_type": "execute_result",
          "data": {
            "text/plain": [
              "(np.float64(-45044.444444444445),\n",
              " np.float64(-90088.88888888889),\n",
              " np.float64(-1648.888888888889))"
            ]
          },
          "metadata": {},
          "execution_count": 52
        }
      ]
    },
    {
      "cell_type": "code",
      "source": [
        "# 4. Функція градієнтного спуску\n",
        "def gradient_descent(x, y, w1_in, w2_in, b_in, alpha, num_iters):\n",
        "    \"\"\"\n",
        "    Виконує градієнтний спуск для пошуку w1, w2, b\n",
        "\n",
        "    Аргументи:\n",
        "      x (ndarray (m,)): Дані, m прикладів\n",
        "      y (ndarray (m,)): цільові значення\n",
        "      w1_in, w2_in, b_in (скаляри): початкові значення параметрів моделі\n",
        "      alpha (float): швидкість навчання\n",
        "      num_iters (int): кількість ітерацій градієнтного спуску\n",
        "\n",
        "    Повертає:\n",
        "      w1 (скаляр): Оновлене значення параметра w1 після градієнтного спуску\n",
        "      w2 (скаляр): Оновлене значення параметра w2 після градієнтного спуску\n",
        "      b (скаляр): Оновлене значення параметра b після градієнтного спуску\n",
        "      J_history (List): Історія значень функції вартості\n",
        "      p_history (list): Історія параметрів [w,b]\n",
        "    \"\"\"\n",
        "\n",
        "    # Масив для збереження значень вартості J та параметрів w, b\n",
        "    J_history = []\n",
        "    p_history = []\n",
        "    b = b_in\n",
        "    w1 = w1_in\n",
        "    w2 = w2_in\n",
        "\n",
        "    for i in range(num_iters):\n",
        "        # Обчислення градієнту\n",
        "        dj_dw1, dj_dw2, dj_db = compute_gradient(x, y, w1, w2, b)\n",
        "\n",
        "        # Оновлення параметрів\n",
        "        w1 = w1 - alpha * dj_dw1\n",
        "        w2 = w2 - alpha * dj_dw2\n",
        "        b = b - alpha * dj_db\n",
        "\n",
        "        # Збереження історії\n",
        "        J_history.append(compute_cost(x, y, w1, w2, b))\n",
        "        p_history.append([w1, w2, b])\n",
        "\n",
        "        # Вивід проміжних результатів\n",
        "        if i % (num_iters // 10) == 0 or i == num_iters - 1:\n",
        "            print(f\"Ітерація {i:4}: Вартість {J_history[-1]:0.2e}, \",\n",
        "                  f\"dj_dw1: {dj_dw1: 0.3e}, dj_dw2: {dj_dw2: 0.3e}, dj_db: {dj_db: 0.3e}, \",\n",
        "                  f\"w1: {w1: 0.3e}, w2: {w2: 0.3e}, b: {b: 0.5e}\")\n",
        "\n",
        "    return w1, w2, b, J_history, p_history"
      ],
      "metadata": {
        "id": "mhp4gpX8gkvZ"
      },
      "execution_count": 53,
      "outputs": []
    },
    {
      "cell_type": "code",
      "source": [
        "w1, w2, b, J_history, p_history = gradient_descent(x_train, y_train, w1_init, w2_init, b_init, alpha, iterations)"
      ],
      "metadata": {
        "colab": {
          "base_uri": "https://localhost:8080/"
        },
        "id": "oASZVpokhgeF",
        "outputId": "3aa93685-3bd9-431c-ad2b-692bbbd8098a"
      },
      "execution_count": 54,
      "outputs": [
        {
          "output_type": "stream",
          "name": "stdout",
          "text": [
            "Ітерація    0: Вартість 1.35e+11,  dj_dw1: -4.504e+04, dj_dw2: -9.009e+04, dj_db: -1.649e+03,  w1:  4.464e+02, w2:  8.969e+02, b:  2.16489e+02\n",
            "Ітерація 1000: Вартість nan,  dj_dw1:  nan, dj_dw2:  nan, dj_db:  nan,  w1:  nan, w2:  nan, b:  nan\n",
            "Ітерація 2000: Вартість nan,  dj_dw1:  nan, dj_dw2:  nan, dj_db:  nan,  w1:  nan, w2:  nan, b:  nan\n"
          ]
        },
        {
          "output_type": "stream",
          "name": "stderr",
          "text": [
            "<ipython-input-49-86fdfde3212c>:17: RuntimeWarning: overflow encountered in scalar power\n",
            "  total_cost = total_cost + (f_wb[i] - y[i]) ** 2\n",
            "<ipython-input-45-d6356ef6f7cb>:14: RuntimeWarning: overflow encountered in scalar multiply\n",
            "  f_wb[i] = w2 * x[i]*x[i] + w1 * x[i] + b\n",
            "<ipython-input-51-53834d53a7cc>:21: RuntimeWarning: overflow encountered in scalar add\n",
            "  dj_dw1 += (f_wb[i] - y[i]) * x[i]\n",
            "<ipython-input-51-53834d53a7cc>:22: RuntimeWarning: overflow encountered in scalar multiply\n",
            "  dj_dw2 += 2 * (f_wb[i] - y[i]) * x[i]\n",
            "<ipython-input-51-53834d53a7cc>:21: RuntimeWarning: overflow encountered in scalar multiply\n",
            "  dj_dw1 += (f_wb[i] - y[i]) * x[i]\n",
            "<ipython-input-51-53834d53a7cc>:23: RuntimeWarning: overflow encountered in scalar add\n",
            "  dj_db += (f_wb[i] - y[i]) * 1\n",
            "<ipython-input-45-d6356ef6f7cb>:14: RuntimeWarning: invalid value encountered in scalar add\n",
            "  f_wb[i] = w2 * x[i]*x[i] + w1 * x[i] + b\n",
            "<ipython-input-45-d6356ef6f7cb>:14: RuntimeWarning: invalid value encountered in scalar multiply\n",
            "  f_wb[i] = w2 * x[i]*x[i] + w1 * x[i] + b\n"
          ]
        },
        {
          "output_type": "stream",
          "name": "stdout",
          "text": [
            "Ітерація 3000: Вартість nan,  dj_dw1:  nan, dj_dw2:  nan, dj_db:  nan,  w1:  nan, w2:  nan, b:  nan\n",
            "Ітерація 4000: Вартість nan,  dj_dw1:  nan, dj_dw2:  nan, dj_db:  nan,  w1:  nan, w2:  nan, b:  nan\n",
            "Ітерація 5000: Вартість nan,  dj_dw1:  nan, dj_dw2:  nan, dj_db:  nan,  w1:  nan, w2:  nan, b:  nan\n",
            "Ітерація 6000: Вартість nan,  dj_dw1:  nan, dj_dw2:  nan, dj_db:  nan,  w1:  nan, w2:  nan, b:  nan\n",
            "Ітерація 7000: Вартість nan,  dj_dw1:  nan, dj_dw2:  nan, dj_db:  nan,  w1:  nan, w2:  nan, b:  nan\n",
            "Ітерація 8000: Вартість nan,  dj_dw1:  nan, dj_dw2:  nan, dj_db:  nan,  w1:  nan, w2:  nan, b:  nan\n",
            "Ітерація 9000: Вартість nan,  dj_dw1:  nan, dj_dw2:  nan, dj_db:  nan,  w1:  nan, w2:  nan, b:  nan\n",
            "Ітерація 9999: Вартість nan,  dj_dw1:  nan, dj_dw2:  nan, dj_db:  nan,  w1:  nan, w2:  nan, b:  nan\n"
          ]
        }
      ]
    },
    {
      "cell_type": "code",
      "source": [
        "alpha /= 10\n",
        "w1, w2, b, J_history, p_history = gradient_descent(x_train, y_train, w1_init, w2_init, b_init, alpha, iterations)"
      ],
      "metadata": {
        "colab": {
          "base_uri": "https://localhost:8080/"
        },
        "id": "rj7N14gQh7QF",
        "outputId": "11a19853-4c34-47bf-fdde-7bd4bbc2500a"
      },
      "execution_count": 55,
      "outputs": [
        {
          "output_type": "stream",
          "name": "stdout",
          "text": [
            "Ітерація    0: Вартість 1.24e+09,  dj_dw1: -4.504e+04, dj_dw2: -9.009e+04, dj_db: -1.649e+03,  w1:  4.104e+01, w2:  8.609e+01, b:  2.01649e+02\n",
            "Ітерація 1000: Вартість nan,  dj_dw1:  nan, dj_dw2:  nan, dj_db:  nan,  w1:  nan, w2:  nan, b:  nan\n",
            "Ітерація 2000: Вартість nan,  dj_dw1:  nan, dj_dw2:  nan, dj_db:  nan,  w1:  nan, w2:  nan, b:  nan\n",
            "Ітерація 3000: Вартість nan,  dj_dw1:  nan, dj_dw2:  nan, dj_db:  nan,  w1:  nan, w2:  nan, b:  nan\n",
            "Ітерація 4000: Вартість nan,  dj_dw1:  nan, dj_dw2:  nan, dj_db:  nan,  w1:  nan, w2:  nan, b:  nan\n",
            "Ітерація 5000: Вартість nan,  dj_dw1:  nan, dj_dw2:  nan, dj_db:  nan,  w1:  nan, w2:  nan, b:  nan\n"
          ]
        },
        {
          "output_type": "stream",
          "name": "stderr",
          "text": [
            "<ipython-input-49-86fdfde3212c>:17: RuntimeWarning: overflow encountered in scalar power\n",
            "  total_cost = total_cost + (f_wb[i] - y[i]) ** 2\n",
            "<ipython-input-51-53834d53a7cc>:22: RuntimeWarning: overflow encountered in scalar multiply\n",
            "  dj_dw2 += 2 * (f_wb[i] - y[i]) * x[i]\n",
            "<ipython-input-51-53834d53a7cc>:21: RuntimeWarning: overflow encountered in scalar multiply\n",
            "  dj_dw1 += (f_wb[i] - y[i]) * x[i]\n",
            "<ipython-input-45-d6356ef6f7cb>:14: RuntimeWarning: invalid value encountered in scalar add\n",
            "  f_wb[i] = w2 * x[i]*x[i] + w1 * x[i] + b\n",
            "<ipython-input-45-d6356ef6f7cb>:14: RuntimeWarning: invalid value encountered in scalar multiply\n",
            "  f_wb[i] = w2 * x[i]*x[i] + w1 * x[i] + b\n"
          ]
        },
        {
          "output_type": "stream",
          "name": "stdout",
          "text": [
            "Ітерація 6000: Вартість nan,  dj_dw1:  nan, dj_dw2:  nan, dj_db:  nan,  w1:  nan, w2:  nan, b:  nan\n",
            "Ітерація 7000: Вартість nan,  dj_dw1:  nan, dj_dw2:  nan, dj_db:  nan,  w1:  nan, w2:  nan, b:  nan\n",
            "Ітерація 8000: Вартість nan,  dj_dw1:  nan, dj_dw2:  nan, dj_db:  nan,  w1:  nan, w2:  nan, b:  nan\n",
            "Ітерація 9000: Вартість nan,  dj_dw1:  nan, dj_dw2:  nan, dj_db:  nan,  w1:  nan, w2:  nan, b:  nan\n",
            "Ітерація 9999: Вартість nan,  dj_dw1:  nan, dj_dw2:  nan, dj_db:  nan,  w1:  nan, w2:  nan, b:  nan\n"
          ]
        }
      ]
    },
    {
      "cell_type": "code",
      "source": [
        "alpha /= 10\n",
        "w1, w2, b, J_history, p_history = gradient_descent(x_train, y_train, w1_init, w2_init, b_init, alpha, iterations)"
      ],
      "metadata": {
        "colab": {
          "base_uri": "https://localhost:8080/"
        },
        "id": "9yY2YbiEiLq5",
        "outputId": "8cc9bda8-bc5d-4d3e-f130-408ad3ee473f"
      },
      "execution_count": 56,
      "outputs": [
        {
          "output_type": "stream",
          "name": "stdout",
          "text": [
            "Ітерація    0: Вартість 4.08e+06,  dj_dw1: -4.504e+04, dj_dw2: -9.009e+04, dj_db: -1.649e+03,  w1:  5.044e-01, w2:  5.009e+00, b:  2.00165e+02\n",
            "Ітерація 1000: Вартість 1.61e+175,  dj_dw1: -8.939e+88, dj_dw2: -1.788e+89, dj_db: -3.223e+87,  w1:  4.902e+84, w2:  9.804e+84, b:  1.76747e+83\n",
            "Ітерація 2000: Вартість inf,  dj_dw1: -1.774e+173, dj_dw2: -3.548e+173, dj_db: -6.396e+171,  w1:  9.728e+168, w2:  1.946e+169, b:  3.50754e+167\n",
            "Ітерація 3000: Вартість inf,  dj_dw1: -3.520e+257, dj_dw2: -7.041e+257, dj_db: -1.269e+256,  w1:  1.931e+253, w2:  3.861e+253, b:  6.96071e+251\n",
            "Ітерація 4000: Вартість nan,  dj_dw1:  nan, dj_dw2:  nan, dj_db:  nan,  w1:  nan, w2:  nan, b:  nan\n"
          ]
        },
        {
          "output_type": "stream",
          "name": "stderr",
          "text": [
            "<ipython-input-49-86fdfde3212c>:17: RuntimeWarning: overflow encountered in scalar add\n",
            "  total_cost = total_cost + (f_wb[i] - y[i]) ** 2\n",
            "<ipython-input-49-86fdfde3212c>:17: RuntimeWarning: overflow encountered in scalar power\n",
            "  total_cost = total_cost + (f_wb[i] - y[i]) ** 2\n",
            "<ipython-input-51-53834d53a7cc>:22: RuntimeWarning: overflow encountered in scalar add\n",
            "  dj_dw2 += 2 * (f_wb[i] - y[i]) * x[i]\n",
            "<ipython-input-45-d6356ef6f7cb>:14: RuntimeWarning: invalid value encountered in scalar multiply\n",
            "  f_wb[i] = w2 * x[i]*x[i] + w1 * x[i] + b\n"
          ]
        },
        {
          "output_type": "stream",
          "name": "stdout",
          "text": [
            "Ітерація 5000: Вартість nan,  dj_dw1:  nan, dj_dw2:  nan, dj_db:  nan,  w1:  nan, w2:  nan, b:  nan\n",
            "Ітерація 6000: Вартість nan,  dj_dw1:  nan, dj_dw2:  nan, dj_db:  nan,  w1:  nan, w2:  nan, b:  nan\n",
            "Ітерація 7000: Вартість nan,  dj_dw1:  nan, dj_dw2:  nan, dj_db:  nan,  w1:  nan, w2:  nan, b:  nan\n",
            "Ітерація 8000: Вартість nan,  dj_dw1:  nan, dj_dw2:  nan, dj_db:  nan,  w1:  nan, w2:  nan, b:  nan\n",
            "Ітерація 9000: Вартість nan,  dj_dw1:  nan, dj_dw2:  nan, dj_db:  nan,  w1:  nan, w2:  nan, b:  nan\n",
            "Ітерація 9999: Вартість nan,  dj_dw1:  nan, dj_dw2:  nan, dj_db:  nan,  w1:  nan, w2:  nan, b:  nan\n"
          ]
        }
      ]
    },
    {
      "cell_type": "code",
      "source": [
        "alpha /= 10\n",
        "w1, w2, b, J_history, p_history = gradient_descent(x_train, y_train, w1_init, w2_init, b_init, alpha, iterations)"
      ],
      "metadata": {
        "colab": {
          "base_uri": "https://localhost:8080/"
        },
        "id": "BHpOuS8AoFw6",
        "outputId": "64af18b0-c6c0-4d0b-82e6-19fc9472b1ea"
      },
      "execution_count": 57,
      "outputs": [
        {
          "output_type": "stream",
          "name": "stdout",
          "text": [
            "Ітерація    0: Вартість 1.70e+06,  dj_dw1: -4.504e+04, dj_dw2: -9.009e+04, dj_db: -1.649e+03,  w1: -3.550e+00, w2: -3.099e+00, b:  2.00016e+02\n",
            "Ітерація 1000: Вартість 1.38e+03,  dj_dw1:  1.669e-02, dj_dw2:  3.338e-02, dj_db: -2.463e+01,  w1: -1.966e+00, w2:  6.832e-02, b:  2.00320e+02\n",
            "Ітерація 2000: Вартість 1.38e+03,  dj_dw1:  1.661e-02, dj_dw2:  3.322e-02, dj_db: -2.452e+01,  w1: -1.966e+00, w2:  6.798e-02, b:  2.00566e+02\n",
            "Ітерація 3000: Вартість 1.37e+03,  dj_dw1:  1.654e-02, dj_dw2:  3.307e-02, dj_db: -2.441e+01,  w1: -1.966e+00, w2:  6.765e-02, b:  2.00811e+02\n",
            "Ітерація 4000: Вартість 1.37e+03,  dj_dw1:  1.646e-02, dj_dw2:  3.292e-02, dj_db: -2.430e+01,  w1: -1.966e+00, w2:  6.732e-02, b:  2.01054e+02\n",
            "Ітерація 5000: Вартість 1.36e+03,  dj_dw1:  1.638e-02, dj_dw2:  3.277e-02, dj_db: -2.418e+01,  w1: -1.967e+00, w2:  6.699e-02, b:  2.01297e+02\n",
            "Ітерація 6000: Вартість 1.36e+03,  dj_dw1:  1.631e-02, dj_dw2:  3.262e-02, dj_db: -2.407e+01,  w1: -1.967e+00, w2:  6.667e-02, b:  2.01538e+02\n",
            "Ітерація 7000: Вартість 1.35e+03,  dj_dw1:  1.623e-02, dj_dw2:  3.247e-02, dj_db: -2.396e+01,  w1: -1.967e+00, w2:  6.634e-02, b:  2.01778e+02\n",
            "Ітерація 8000: Вартість 1.35e+03,  dj_dw1:  1.616e-02, dj_dw2:  3.232e-02, dj_db: -2.385e+01,  w1: -1.967e+00, w2:  6.602e-02, b:  2.02017e+02\n",
            "Ітерація 9000: Вартість 1.34e+03,  dj_dw1:  1.609e-02, dj_dw2:  3.217e-02, dj_db: -2.374e+01,  w1: -1.967e+00, w2:  6.569e-02, b:  2.02255e+02\n",
            "Ітерація 9999: Вартість 1.34e+03,  dj_dw1:  1.601e-02, dj_dw2:  3.202e-02, dj_db: -2.364e+01,  w1: -1.967e+00, w2:  6.537e-02, b:  2.02492e+02\n"
          ]
        }
      ]
    },
    {
      "cell_type": "code",
      "source": [
        "alpha = 0.00003"
      ],
      "metadata": {
        "id": "m5gD1IxHoRDr"
      },
      "execution_count": 69,
      "outputs": []
    },
    {
      "cell_type": "code",
      "source": [
        "iterations = 100000"
      ],
      "metadata": {
        "id": "OqPwPWFaoLq8"
      },
      "execution_count": 70,
      "outputs": []
    },
    {
      "cell_type": "code",
      "source": [
        "w1, w2, b, J_history, p_history = gradient_descent(x_train, y_train, w1_init, w2_init, b_init, alpha, iterations)"
      ],
      "metadata": {
        "colab": {
          "base_uri": "https://localhost:8080/"
        },
        "id": "AAm7wUz9oTWz",
        "outputId": "79dfa9a5-17e7-40d0-8417-7dd5f0100947"
      },
      "execution_count": 71,
      "outputs": [
        {
          "output_type": "stream",
          "name": "stdout",
          "text": [
            "Ітерація    0: Вартість 3.20e+05,  dj_dw1: -4.504e+04, dj_dw2: -9.009e+04, dj_db: -1.649e+03,  w1: -2.649e+00, w2: -1.297e+00, b:  2.00049e+02\n",
            "Ітерація 10000: Вартість 1.26e+03,  dj_dw1:  1.461e-02, dj_dw2:  2.921e-02, dj_db: -2.156e+01,  w1: -1.970e+00, w2:  5.925e-02, b:  2.07009e+02\n",
            "Ітерація 20000: Вартість 1.17e+03,  dj_dw1:  1.273e-02, dj_dw2:  2.545e-02, dj_db: -1.879e+01,  w1: -1.974e+00, w2:  5.107e-02, b:  2.13052e+02\n",
            "Ітерація 30000: Вартість 1.11e+03,  dj_dw1:  1.109e-02, dj_dw2:  2.218e-02, dj_db: -1.637e+01,  w1: -1.978e+00, w2:  4.393e-02, b:  2.18317e+02\n",
            "Ітерація 40000: Вартість 1.07e+03,  dj_dw1:  9.663e-03, dj_dw2:  1.933e-02, dj_db: -1.426e+01,  w1: -1.981e+00, w2:  3.772e-02, b:  2.22904e+02\n",
            "Ітерація 50000: Вартість 1.04e+03,  dj_dw1:  8.419e-03, dj_dw2:  1.684e-02, dj_db: -1.243e+01,  w1: -1.984e+00, w2:  3.230e-02, b:  2.26901e+02\n",
            "Ітерація 60000: Вартість 1.03e+03,  dj_dw1:  7.336e-03, dj_dw2:  1.467e-02, dj_db: -1.083e+01,  w1: -1.986e+00, w2:  2.758e-02, b:  2.30384e+02\n",
            "Ітерація 70000: Вартість 1.02e+03,  dj_dw1:  6.392e-03, dj_dw2:  1.278e-02, dj_db: -9.435e+00,  w1: -1.988e+00, w2:  2.347e-02, b:  2.33419e+02\n",
            "Ітерація 80000: Вартість 1.02e+03,  dj_dw1:  5.569e-03, dj_dw2:  1.114e-02, dj_db: -8.221e+00,  w1: -1.990e+00, w2:  1.989e-02, b:  2.36063e+02\n",
            "Ітерація 90000: Вартість 1.02e+03,  dj_dw1:  4.853e-03, dj_dw2:  9.705e-03, dj_db: -7.163e+00,  w1: -1.992e+00, w2:  1.677e-02, b:  2.38367e+02\n",
            "Ітерація 99999: Вартість 1.02e+03,  dj_dw1:  4.228e-03, dj_dw2:  8.457e-03, dj_db: -6.241e+00,  w1: -1.993e+00, w2:  1.405e-02, b:  2.40374e+02\n"
          ]
        }
      ]
    },
    {
      "cell_type": "markdown",
      "source": [
        "    4. Запуск градієнтного спуску\n",
        "        * Ініціалізуйте початкові значення параметрів\n",
        "        * Виконайте алгоритм градієнтного спуску для знаходження оптимальних параметрів"
      ],
      "metadata": {
        "id": "P3y3cRq6jMQe"
      }
    },
    {
      "cell_type": "code",
      "source": [
        "iterations = 100000"
      ],
      "metadata": {
        "id": "JsHiFulmikXb"
      },
      "execution_count": 72,
      "outputs": []
    },
    {
      "cell_type": "code",
      "source": [
        "alpha = 0.00003"
      ],
      "metadata": {
        "id": "TqSUAoBzilWA"
      },
      "execution_count": 73,
      "outputs": []
    },
    {
      "cell_type": "code",
      "source": [
        "w1, w2, b, J_history, p_history = gradient_descent(x_train, y_train, w1_init, w2_init, b_init, alpha, iterations)"
      ],
      "metadata": {
        "colab": {
          "base_uri": "https://localhost:8080/"
        },
        "id": "_GrHMzXyiQoG",
        "outputId": "0d4e1fb4-046b-453f-b089-1072d915d5a9"
      },
      "execution_count": 74,
      "outputs": [
        {
          "output_type": "stream",
          "name": "stdout",
          "text": [
            "Ітерація    0: Вартість 3.20e+05,  dj_dw1: -4.504e+04, dj_dw2: -9.009e+04, dj_db: -1.649e+03,  w1: -2.649e+00, w2: -1.297e+00, b:  2.00049e+02\n",
            "Ітерація 10000: Вартість 1.26e+03,  dj_dw1:  1.461e-02, dj_dw2:  2.921e-02, dj_db: -2.156e+01,  w1: -1.970e+00, w2:  5.925e-02, b:  2.07009e+02\n",
            "Ітерація 20000: Вартість 1.17e+03,  dj_dw1:  1.273e-02, dj_dw2:  2.545e-02, dj_db: -1.879e+01,  w1: -1.974e+00, w2:  5.107e-02, b:  2.13052e+02\n",
            "Ітерація 30000: Вартість 1.11e+03,  dj_dw1:  1.109e-02, dj_dw2:  2.218e-02, dj_db: -1.637e+01,  w1: -1.978e+00, w2:  4.393e-02, b:  2.18317e+02\n",
            "Ітерація 40000: Вартість 1.07e+03,  dj_dw1:  9.663e-03, dj_dw2:  1.933e-02, dj_db: -1.426e+01,  w1: -1.981e+00, w2:  3.772e-02, b:  2.22904e+02\n",
            "Ітерація 50000: Вартість 1.04e+03,  dj_dw1:  8.419e-03, dj_dw2:  1.684e-02, dj_db: -1.243e+01,  w1: -1.984e+00, w2:  3.230e-02, b:  2.26901e+02\n",
            "Ітерація 60000: Вартість 1.03e+03,  dj_dw1:  7.336e-03, dj_dw2:  1.467e-02, dj_db: -1.083e+01,  w1: -1.986e+00, w2:  2.758e-02, b:  2.30384e+02\n",
            "Ітерація 70000: Вартість 1.02e+03,  dj_dw1:  6.392e-03, dj_dw2:  1.278e-02, dj_db: -9.435e+00,  w1: -1.988e+00, w2:  2.347e-02, b:  2.33419e+02\n",
            "Ітерація 80000: Вартість 1.02e+03,  dj_dw1:  5.569e-03, dj_dw2:  1.114e-02, dj_db: -8.221e+00,  w1: -1.990e+00, w2:  1.989e-02, b:  2.36063e+02\n",
            "Ітерація 90000: Вартість 1.02e+03,  dj_dw1:  4.853e-03, dj_dw2:  9.705e-03, dj_db: -7.163e+00,  w1: -1.992e+00, w2:  1.677e-02, b:  2.38367e+02\n",
            "Ітерація 99999: Вартість 1.02e+03,  dj_dw1:  4.228e-03, dj_dw2:  8.457e-03, dj_db: -6.241e+00,  w1: -1.993e+00, w2:  1.405e-02, b:  2.40374e+02\n"
          ]
        }
      ]
    },
    {
      "cell_type": "code",
      "source": [
        "y_hat = compute_model_output(x_train, w1, w2, b)"
      ],
      "metadata": {
        "id": "ZiOBUH5BjfDB"
      },
      "execution_count": 75,
      "outputs": []
    },
    {
      "cell_type": "code",
      "source": [
        "w1, w2, b"
      ],
      "metadata": {
        "colab": {
          "base_uri": "https://localhost:8080/"
        },
        "id": "Oto7B1OmpFh9",
        "outputId": "c83c11f9-778d-4b25-daf9-801692f40bbe"
      },
      "execution_count": 77,
      "outputs": [
        {
          "output_type": "execute_result",
          "data": {
            "text/plain": [
              "(np.float64(-1.9929770150311372),\n",
              " np.float64(0.01404596993767788),\n",
              " np.float64(240.37431647774304))"
            ]
          },
          "metadata": {},
          "execution_count": 77
        }
      ]
    },
    {
      "cell_type": "code",
      "source": [
        "plt.figure(figsize=(10, 6))\n",
        "plt.scatter(x_train, y_hat, marker='o', c='b', s=100, label='Обчислені дані')"
      ],
      "metadata": {
        "colab": {
          "base_uri": "https://localhost:8080/",
          "height": 539
        },
        "id": "Rl_1MVhBpBQn",
        "outputId": "2e76c262-10df-433a-e0cc-2e63f3537300"
      },
      "execution_count": 76,
      "outputs": [
        {
          "output_type": "execute_result",
          "data": {
            "text/plain": [
              "<matplotlib.collections.PathCollection at 0x780a08cd1690>"
            ]
          },
          "metadata": {},
          "execution_count": 76
        },
        {
          "output_type": "display_data",
          "data": {
            "text/plain": [
              "<Figure size 1000x600 with 1 Axes>"
            ],
            "image/png": "[encoded data removed]"
          },
          "metadata": {}
        }
      ]
    },
    {
      "cell_type": "code",
      "source": [
        "plt.figure(figsize=(10, 6))\n",
        "plt.scatter(x_train, y_hat, marker='o', c='b', s=100, label='Обчислені дані') + plt.scatter(x_train, y_train, marker='x', c='r', s=100, label='Навчальні дані')"
      ],
      "metadata": {
        "colab": {
          "base_uri": "https://localhost:8080/",
          "height": 681
        },
        "id": "PUOCvj5qjzVL",
        "outputId": "6b836fdb-5b84-4329-b07c-99c24daa42b4"
      },
      "execution_count": 78,
      "outputs": [
        {
          "output_type": "error",
          "ename": "TypeError",
          "evalue": "unsupported operand type(s) for +: 'PathCollection' and 'PathCollection'",
          "traceback": [
            "\u001b[0;31m---------------------------------------------------------------------------\u001b[0m",
            "\u001b[0;31mTypeError\u001b[0m                                 Traceback (most recent call last)",
            "\u001b[0;32m<ipython-input-78-7bf35d6e3e2f>\u001b[0m in \u001b[0;36m<cell line: 0>\u001b[0;34m()\u001b[0m\n\u001b[1;32m      1\u001b[0m \u001b[0mplt\u001b[0m\u001b[0;34m.\u001b[0m\u001b[0mfigure\u001b[0m\u001b[0;34m(\u001b[0m\u001b[0mfigsize\u001b[0m\u001b[0;34m=\u001b[0m\u001b[0;34m(\u001b[0m\u001b[0;36m10\u001b[0m\u001b[0;34m,\u001b[0m \u001b[0;36m6\u001b[0m\u001b[0;34m)\u001b[0m\u001b[0;34m)\u001b[0m\u001b[0;34m\u001b[0m\u001b[0;34m\u001b[0m\u001b[0m\n\u001b[0;32m----> 2\u001b[0;31m \u001b[0mplt\u001b[0m\u001b[0;34m.\u001b[0m\u001b[0mscatter\u001b[0m\u001b[0;34m(\u001b[0m\u001b[0mx_train\u001b[0m\u001b[0;34m,\u001b[0m \u001b[0my_hat\u001b[0m\u001b[0;34m,\u001b[0m \u001b[0mmarker\u001b[0m\u001b[0;34m=\u001b[0m\u001b[0;34m'o'\u001b[0m\u001b[0;34m,\u001b[0m \u001b[0mc\u001b[0m\u001b[0;34m=\u001b[0m\u001b[0;34m'b'\u001b[0m\u001b[0;34m,\u001b[0m \u001b[0ms\u001b[0m\u001b[0;34m=\u001b[0m\u001b[0;36m100\u001b[0m\u001b[0;34m,\u001b[0m \u001b[0mlabel\u001b[0m\u001b[0;34m=\u001b[0m\u001b[0;34m'Обчислені дані'\u001b[0m\u001b[0;34m)\u001b[0m \u001b[0;34m+\u001b[0m \u001b[0mplt\u001b[0m\u001b[0;34m.\u001b[0m\u001b[0mscatter\u001b[0m\u001b[0;34m(\u001b[0m\u001b[0mx_train\u001b[0m\u001b[0;34m,\u001b[0m \u001b[0my_train\u001b[0m\u001b[0;34m,\u001b[0m \u001b[0mmarker\u001b[0m\u001b[0;34m=\u001b[0m\u001b[0;34m'x'\u001b[0m\u001b[0;34m,\u001b[0m \u001b[0mc\u001b[0m\u001b[0;34m=\u001b[0m\u001b[0;34m'r'\u001b[0m\u001b[0;34m,\u001b[0m \u001b[0ms\u001b[0m\u001b[0;34m=\u001b[0m\u001b[0;36m100\u001b[0m\u001b[0;34m,\u001b[0m \u001b[0mlabel\u001b[0m\u001b[0;34m=\u001b[0m\u001b[0;34m'Навчальні дані'\u001b[0m\u001b[0;34m)\u001b[0m\u001b[0;34m\u001b[0m\u001b[0;34m\u001b[0m\u001b[0m\n\u001b[0m",
            "\u001b[0;31mTypeError\u001b[0m: unsupported operand type(s) for +: 'PathCollection' and 'PathCollection'"
          ]
        },
        {
          "output_type": "display_data",
          "data": {
            "text/plain": [
              "<Figure size 1000x600 with 1 Axes>"
            ],
            "image/png": "[encoded data removed]"
          },
          "metadata": {}
        }
      ]
    },
    {
      "cell_type": "markdown",
      "source": [
        "    5. Аналіз та візуалізація результатів\n",
        "        ◦ Візуалізуйте дані та отриману модель\n",
        "        ◦ Проаналізуйте процес навчання (зміну функції вартості)\n",
        "        ◦ Використайте модель для прогнозування"
      ],
      "metadata": {
        "id": "YCGl7qaijT1R"
      }
    },
    {
      "cell_type": "code",
      "source": [
        "# Обчислення значень моделі для виводу лінії\n",
        "x_line = np.linspace(np.min(x_train) * 0.8, np.max(x_train) * 1.2, 100)\n",
        "y_line = w1 * x_line + w2 * x_line ** 2 + b\n",
        "\n",
        "plt.plot(x_line, y_line, 'b-', label='Модель')\n",
        "plt.xlabel('Вхідний параметр x')\n",
        "plt.ylabel('Цільове значення y')\n",
        "plt.title('Лінійна регресія: дані та модель')\n",
        "plt.legend()\n",
        "plt.grid(True)\n",
        "plt.show()\n"
      ],
      "metadata": {
        "colab": {
          "base_uri": "https://localhost:8080/",
          "height": 472
        },
        "id": "TaLvAs2kiaOO",
        "outputId": "4259d33b-c03a-49d5-c56a-734330b14d07"
      },
      "execution_count": 80,
      "outputs": [
        {
          "output_type": "display_data",
          "data": {
            "text/plain": [
              "<Figure size 640x480 with 1 Axes>"
            ],
            "image/png": "[encoded data removed]"
          },
          "metadata": {}
        }
      ]
    },
    {
      "cell_type": "code",
      "source": [
        "# 6.2 Візуалізація зміни функції вартості\n",
        "plt.figure(figsize=(12, 5))\n",
        "plt.subplot(1, 2, 1)\n",
        "plt.plot(J_history[:100])\n",
        "plt.title('Вартість vs. ітерації (початок)')\n",
        "plt.xlabel('Ітерації')\n",
        "plt.ylabel('Вартість')\n",
        "\n",
        "plt.subplot(1, 2, 2)\n",
        "plt.plot(range(100, len(J_history)), J_history[100:])\n",
        "plt.title('Вартість vs. ітерації (кінець)')\n",
        "plt.xlabel('Ітерації')\n",
        "plt.ylabel('Вартість')\n",
        "plt.grid(True)\n",
        "plt.tight_layout()\n",
        "plt.show()"
      ],
      "metadata": {
        "colab": {
          "base_uri": "https://localhost:8080/",
          "height": 495
        },
        "id": "cHUKC1eZki-J",
        "outputId": "8678c598-51c9-449b-f15d-99114083582f"
      },
      "execution_count": 81,
      "outputs": [
        {
          "output_type": "display_data",
          "data": {
            "text/plain": [
              "<Figure size 1200x500 with 2 Axes>"
            ],
            "image/png": "[encoded data removed]"
          },
          "metadata": {}
        }
      ]
    },
    {
      "cell_type": "code",
      "source": [
        "# 7. Використання моделі для прогнозування\n",
        "def predict(x, w1, w2, b):\n",
        "    \"\"\"\n",
        "    Прогнозування за допомогою лінійної моделі\n",
        "\n",
        "    Аргументи:\n",
        "      x (скаляр): вхідне значення для прогнозування\n",
        "      w, b (скаляри): параметри моделі\n",
        "\n",
        "    Повертає:\n",
        "      y_pred (скаляр): прогнозоване значення\n",
        "    \"\"\"\n",
        "    return w1 * x + w2 * x*x + b\n"
      ],
      "metadata": {
        "id": "nOMRhhy3ky_b"
      },
      "execution_count": 82,
      "outputs": []
    },
    {
      "cell_type": "code",
      "source": [
        "# Приклади прогнозування\n",
        "test_values = [np.min(x_train), np.max(x_train), (np.min(x_train) + np.max(x_train)) / 2]\n",
        "print(\"\\nПрогнози моделі:\")\n",
        "for x_value in test_values:\n",
        "    y_pred = predict(x_value, w1, w2, b)\n",
        "    print(f\"При x = {x_value:.2f}, прогноз y = {y_pred:.2f}\")\n",
        "\n",
        "# Додатковий аналіз - коефіцієнт детермінації R²\n",
        "def r_squared(y_true, y_pred):\n",
        "    \"\"\"\n",
        "    Обчислює коефіцієнт детермінації R²\n",
        "\n",
        "    Аргументи:\n",
        "      y_true (ndarray): фактичні значення\n",
        "      y_pred (ndarray): прогнозовані значення\n",
        "\n",
        "    Повертає:\n",
        "      r2 (скаляр): коефіцієнт детермінації\n",
        "    \"\"\"\n",
        "    ss_total = np.sum((y_true - np.mean(y_true))**2)\n",
        "    ss_residual = np.sum((y_true - y_pred)**2)\n",
        "    r2 = 1 - (ss_residual / ss_total)\n",
        "    return r2\n",
        "\n",
        "# Обчислення прогнозів для навчальних даних\n",
        "y_pred_train = w1 * x_train + w2 * x_train**2 + b\n",
        "\n",
        "# Обчислення R²\n",
        "r2 = r_squared(y_train, y_pred_train)\n",
        "print(f\"\\nКоефіцієнт детермінації (R²): {r2:.4f}\")\n"
      ],
      "metadata": {
        "colab": {
          "base_uri": "https://localhost:8080/"
        },
        "id": "WGPxRJS0lQ8x",
        "outputId": "247e606d-abbf-4fc9-eb44-208adc534b89"
      },
      "execution_count": 83,
      "outputs": [
        {
          "output_type": "stream",
          "name": "stdout",
          "text": [
            "\n",
            "Прогнози моделі:\n",
            "При x = -5.00, прогноз y = 250.69\n",
            "При x = 35.00, прогноз y = 187.83\n",
            "При x = 15.00, прогноз y = 213.64\n",
            "\n",
            "Коефіцієнт детермінації (R²): 0.2933\n"
          ]
        }
      ]
    },
    {
      "cell_type": "code",
      "source": [],
      "metadata": {
        "id": "BIt0dFoElUtl"
      },
      "execution_count": null,
      "outputs": []
    }
  ]
}