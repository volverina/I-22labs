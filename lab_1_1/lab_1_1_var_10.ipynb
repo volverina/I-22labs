{
  "nbformat": 4,
  "nbformat_minor": 0,
  "metadata": {
    "colab": {
      "provenance": [],
      "gpuType": "T4"
    },
    "kernelspec": {
      "name": "python3",
      "display_name": "Python 3"
    },
    "language_info": {
      "name": "python"
    },
    "accelerator": "GPU"
  },
  "cells": [
    {
      "cell_type": "markdown",
      "source": [
        "Лабораторна робота 1.1 студента С. О. Семерікова\n",
        "\n",
        "Варіант 10: Споживання електроенергії\n",
        "\n",
        "Опис: Залежність споживання електроенергії (кВт·год) від середньодобової температури (°C). Набір даних:\n",
        "\n",
        "x_train = np.array([-5, 0, 5, 10, 15, 20, 25, 30, 35])  # температура в °C\n",
        "\n",
        "y_train = np.array([320, 280, 240, 200, 170, 150, 170, 210, 260])  # споживання в кВт·год\n",
        "\n",
        "Рекомендовані параметри для початку:\n",
        "\n",
        "* w_init = -4\n",
        "* b_init = 200\n",
        "* alpha = 0.01\n",
        "* iterations = 10000\n"
      ],
      "metadata": {
        "id": "Sw7TyKmUZ85y"
      }
    },
    {
      "cell_type": "code",
      "source": [
        "w2_init = -4\n",
        "w1_init = -4\n",
        "b_init = 200\n",
        "alpha = 0.01\n",
        "iterations = 10000"
      ],
      "metadata": {
        "id": "68-LurrzbrX4"
      },
      "execution_count": 1,
      "outputs": []
    },
    {
      "cell_type": "markdown",
      "source": [
        "    2. Підготовка даних\n",
        "        * Імпортуйте необхідні бібліотеки\n",
        "        * Завантажте дані відповідно до вашого варіанту\n",
        "        * Візуалізуйте дані для розуміння їх структури"
      ],
      "metadata": {
        "id": "j8uU9zYKbMAT"
      }
    },
    {
      "cell_type": "code",
      "execution_count": 2,
      "metadata": {
        "colab": {
          "base_uri": "https://localhost:8080/",
          "height": 539
        },
        "id": "7vtca8f9Zhkj",
        "outputId": "be811503-66d7-4f1a-acfa-cf3a00e71a38"
      },
      "outputs": [
        {
          "output_type": "execute_result",
          "data": {
            "text/plain": [
              "<matplotlib.collections.PathCollection at 0x7ef56ce97a10>"
            ]
          },
          "metadata": {},
          "execution_count": 2
        },
        {
          "output_type": "display_data",
          "data": {
            "text/plain": [
              "<Figure size 1000x600 with 1 Axes>"
            ],
            "image/png": "[encoded data removed]"
          },
          "metadata": {}
        }
      ],
      "source": [
        "import numpy as np\n",
        "import matplotlib.pyplot as plt\n",
        "\n",
        "x_train = np.array([-5, 0, 5, 10, 15, 20, 25, 30, 35]) # температура в °C\n",
        "y_train = np.array([320, 280, 240, 200, 170, 150, 170, 210, 260])  # споживання в кВт·год\n",
        "\n",
        "plt.figure(figsize=(10, 6))\n",
        "plt.scatter(x_train, y_train, marker='x', c='r', s=100, label='Навчальні дані')"
      ]
    },
    {
      "cell_type": "markdown",
      "source": [
        "1: $y_{обч} = f(x) = wx + b$ - погано\n",
        "\n",
        "2: $y_{обч} = w_2x^2 + w_1x + b$ - можливо, краще\n",
        "\n"
      ],
      "metadata": {
        "id": "JG44L1RXc09E"
      }
    },
    {
      "cell_type": "markdown",
      "source": [
        "    3. Реалізація функцій\n",
        "        * Реалізуйте функцію обчислення вихідних значень моделі compute_model_output\n",
        "        * Реалізуйте функцію обчислення вартості compute_cost\n",
        "        * Реалізуйте функцію обчислення градієнту compute_gradient\n",
        "        * Реалізуйте функцію градієнтного спуску gradient_descent"
      ],
      "metadata": {
        "id": "O0LvQOPDcump"
      }
    },
    {
      "cell_type": "code",
      "source": [
        "# 1. Функція обчислення моделі\n",
        "def compute_model_output(x, w1, w2, b):\n",
        "    \"\"\"\n",
        "    Обчислює прогноз лінійної моделі\n",
        "    Аргументи:\n",
        "      x (ndarray (m,)): Дані, m прикладів\n",
        "      w, b (скаляри): параметри моделі\n",
        "    Повертає:\n",
        "      y (ndarray (m,)): цільові значення\n",
        "    \"\"\"\n",
        "    m = x.shape[0]\n",
        "    f_wb = np.zeros(m)\n",
        "    for i in range(m):\n",
        "        f_wb[i] = w2 * x[i]**2 + w1 * x[i] + b\n",
        "\n",
        "    return f_wb"
      ],
      "metadata": {
        "id": "DTAPloRYcCdo"
      },
      "execution_count": 3,
      "outputs": []
    },
    {
      "cell_type": "code",
      "source": [
        "y_hat = compute_model_output(x_train, w1_init, w2_init, b_init)"
      ],
      "metadata": {
        "id": "4DW0vV7Vd6Qq"
      },
      "execution_count": 4,
      "outputs": []
    },
    {
      "cell_type": "code",
      "source": [
        "y_hat"
      ],
      "metadata": {
        "colab": {
          "base_uri": "https://localhost:8080/"
        },
        "id": "htqg8MEoeIbK",
        "outputId": "c2f728e8-2352-4236-9f9b-8859d935ce00"
      },
      "execution_count": 5,
      "outputs": [
        {
          "output_type": "execute_result",
          "data": {
            "text/plain": [
              "array([  120.,   200.,    80.,  -240.,  -760., -1480., -2400., -3520.,\n",
              "       -4840.])"
            ]
          },
          "metadata": {},
          "execution_count": 5
        }
      ]
    },
    {
      "cell_type": "code",
      "source": [
        "y_train"
      ],
      "metadata": {
        "colab": {
          "base_uri": "https://localhost:8080/"
        },
        "id": "4iDivzBveJ2q",
        "outputId": "c91c9ca8-5aa0-46a6-fbcb-bd19af99fa98"
      },
      "execution_count": 6,
      "outputs": [
        {
          "output_type": "execute_result",
          "data": {
            "text/plain": [
              "array([320, 280, 240, 200, 170, 150, 170, 210, 260])"
            ]
          },
          "metadata": {},
          "execution_count": 6
        }
      ]
    },
    {
      "cell_type": "code",
      "source": [
        "# 2. Функція обчислення вартості\n",
        "def compute_cost(x, y, w1, w2, b):\n",
        "    \"\"\"\n",
        "    Обчислює функцію вартості для лінійної регресії\n",
        "    Аргументи:\n",
        "      x (ndarray (m,)): Дані, m прикладів\n",
        "      y (ndarray (m,)): цільові значення\n",
        "      w1, w2, b (скаляри): параметри моделі\n",
        "    Повертає:\n",
        "      total_cost (float): вартість використання w,b як параметрів для лінійної регресії\n",
        "    \"\"\"\n",
        "    m = x.shape[0]\n",
        "\n",
        "    total_cost = 0\n",
        "    f_wb = compute_model_output(x, w1, w2, b)\n",
        "    for i in range(m):\n",
        "        total_cost = total_cost + (f_wb[i] - y[i]) ** 2\n",
        "    total_cost = (1 / (2 * m)) * total_cost\n",
        "\n",
        "    return total_cost"
      ],
      "metadata": {
        "id": "CvtPJcSmeQFI"
      },
      "execution_count": 7,
      "outputs": []
    },
    {
      "cell_type": "code",
      "source": [
        "J = compute_cost(x_train, y_train, w1_init, w2_init, b_init)\n",
        "J"
      ],
      "metadata": {
        "colab": {
          "base_uri": "https://localhost:8080/"
        },
        "id": "teEZtkmQfQPz",
        "outputId": "9395f79b-962c-4968-dd58-90ed170d3571"
      },
      "execution_count": 8,
      "outputs": [
        {
          "output_type": "execute_result",
          "data": {
            "text/plain": [
              "np.float64(2795288.8888888885)"
            ]
          },
          "metadata": {},
          "execution_count": 8
        }
      ]
    },
    {
      "cell_type": "code",
      "source": [
        "# 3. Функція обчислення градієнта\n",
        "def compute_gradient(x, y, w1, w2, b):\n",
        "    \"\"\"\n",
        "    Обчислює градієнт для лінійної регресії\n",
        "    Аргументи:\n",
        "      x (ndarray (m,)): Дані, m прикладів\n",
        "      y (ndarray (m,)): цільові значення\n",
        "      w1, w2, b (скаляри): параметри моделі\n",
        "    Повертає:\n",
        "      dj_dw1 (скаляр): Градієнт функції вартості відносно параметра w1\n",
        "      dj_dw2 (скаляр): Градієнт функції вартості відносно параметра w2\n",
        "      dj_db (скаляр): Градієнт функції вартості відносно параметра b\n",
        "    \"\"\"\n",
        "    m = x.shape[0]\n",
        "    dj_dw1 = 0\n",
        "    dj_dw2 = 0\n",
        "    dj_db = 0\n",
        "\n",
        "    f_wb = compute_model_output(x, w1, w2, b)\n",
        "    for i in range(m):\n",
        "        dj_dw1 += (f_wb[i] - y[i]) * x[i]\n",
        "        dj_dw2 += (f_wb[i] - y[i]) * x[i] ** 2\n",
        "        dj_db += (f_wb[i] - y[i]) * 1\n",
        "\n",
        "    dj_dw1 = dj_dw1 / m\n",
        "    dj_dw2 = dj_dw2 / m\n",
        "    dj_db = dj_db / m\n",
        "\n",
        "    return dj_dw1, dj_dw2, dj_db"
      ],
      "metadata": {
        "id": "69JaZLIsfbKI"
      },
      "execution_count": 9,
      "outputs": []
    },
    {
      "cell_type": "code",
      "source": [
        "dJ_dw1, dJ_dw2, dJ_db = compute_gradient(x_train, y_train, w1_init, w2_init, b_init)\n",
        "dJ_dw1, dJ_dw2, dJ_db"
      ],
      "metadata": {
        "colab": {
          "base_uri": "https://localhost:8080/"
        },
        "id": "2bjGWUYcgXof",
        "outputId": "89f93196-9c31-4f37-a104-3b503a2ea693"
      },
      "execution_count": 10,
      "outputs": [
        {
          "output_type": "execute_result",
          "data": {
            "text/plain": [
              "(np.float64(-45044.444444444445),\n",
              " np.float64(-1347222.2222222222),\n",
              " np.float64(-1648.888888888889))"
            ]
          },
          "metadata": {},
          "execution_count": 10
        }
      ]
    },
    {
      "cell_type": "code",
      "source": [
        "# 4. Функція градієнтного спуску\n",
        "def gradient_descent(x, y, w1_in, w2_in, b_in, alpha, num_iters):\n",
        "    \"\"\"\n",
        "    Виконує градієнтний спуск для пошуку w1, w2, b\n",
        "\n",
        "    Аргументи:\n",
        "      x (ndarray (m,)): Дані, m прикладів\n",
        "      y (ndarray (m,)): цільові значення\n",
        "      w1_in, w2_in, b_in (скаляри): початкові значення параметрів моделі\n",
        "      alpha (float): швидкість навчання\n",
        "      num_iters (int): кількість ітерацій градієнтного спуску\n",
        "\n",
        "    Повертає:\n",
        "      w1 (скаляр): Оновлене значення параметра w1 після градієнтного спуску\n",
        "      w2 (скаляр): Оновлене значення параметра w2 після градієнтного спуску\n",
        "      b (скаляр): Оновлене значення параметра b після градієнтного спуску\n",
        "      J_history (List): Історія значень функції вартості\n",
        "      p_history (list): Історія параметрів [w,b]\n",
        "    \"\"\"\n",
        "\n",
        "    # Масив для збереження значень вартості J та параметрів w, b\n",
        "    J_history = []\n",
        "    p_history = []\n",
        "    b = b_in\n",
        "    w1 = w1_in\n",
        "    w2 = w2_in\n",
        "\n",
        "    for i in range(num_iters):\n",
        "        # Обчислення градієнту\n",
        "        dj_dw1, dj_dw2, dj_db = compute_gradient(x, y, w1, w2, b)\n",
        "\n",
        "        # Оновлення параметрів\n",
        "        w1 = w1 - alpha * dj_dw1\n",
        "        w2 = w2 - alpha * dj_dw2\n",
        "        b = b - alpha * dj_db\n",
        "\n",
        "        # Збереження історії\n",
        "        J_history.append(compute_cost(x, y, w1, w2, b))\n",
        "        p_history.append([w1, w2, b])\n",
        "\n",
        "        # Вивід проміжних результатів\n",
        "        if i % (num_iters // 10) == 0 or i == num_iters - 1:\n",
        "            print(f\"Ітерація {i:4}: Вартість {J_history[-1]:0.2e}, \",\n",
        "                  f\"dj_dw1: {dj_dw1: 0.3e}, dj_dw2: {dj_dw2: 0.3e}, dj_db: {dj_db: 0.3e}, \",\n",
        "                  f\"w1: {w1: 0.3e}, w2: {w2: 0.3e}, b: {b: 0.5e}\")\n",
        "\n",
        "    return w1, w2, b, J_history, p_history"
      ],
      "metadata": {
        "id": "mhp4gpX8gkvZ"
      },
      "execution_count": 11,
      "outputs": []
    },
    {
      "cell_type": "code",
      "source": [
        "w1, w2, b, J_history, p_history = gradient_descent(x_train, y_train, w1_init, w2_init, b_init, alpha, iterations)"
      ],
      "metadata": {
        "colab": {
          "base_uri": "https://localhost:8080/"
        },
        "id": "oASZVpokhgeF",
        "outputId": "1ec5466d-9c8f-4d91-827f-6ed6e3dca960"
      },
      "execution_count": 12,
      "outputs": [
        {
          "output_type": "stream",
          "name": "stdout",
          "text": [
            "Ітерація    0: Вартість 2.95e+13,  dj_dw1: -4.504e+04, dj_dw2: -1.347e+06, dj_db: -1.649e+03,  w1:  4.464e+02, w2:  1.347e+04, b:  2.16489e+02\n",
            "Ітерація 1000: Вартість nan,  dj_dw1:  nan, dj_dw2:  nan, dj_db:  nan,  w1:  nan, w2:  nan, b:  nan\n",
            "Ітерація 2000: Вартість nan,  dj_dw1:  nan, dj_dw2:  nan, dj_db:  nan,  w1:  nan, w2:  nan, b:  nan\n",
            "Ітерація 3000: Вартість nan,  dj_dw1:  nan, dj_dw2:  nan, dj_db:  nan,  w1:  nan, w2:  nan, b:  nan\n",
            "Ітерація 4000: Вартість nan,  dj_dw1:  nan, dj_dw2:  nan, dj_db:  nan,  w1:  nan, w2:  nan, b:  nan\n",
            "Ітерація 5000: Вартість nan,  dj_dw1:  nan, dj_dw2:  nan, dj_db:  nan,  w1:  nan, w2:  nan, b:  nan\n",
            "Ітерація 6000: Вартість nan,  dj_dw1:  nan, dj_dw2:  nan, dj_db:  nan,  w1:  nan, w2:  nan, b:  nan\n"
          ]
        },
        {
          "output_type": "stream",
          "name": "stderr",
          "text": [
            "<ipython-input-7-b672f3308120>:17: RuntimeWarning: overflow encountered in scalar power\n",
            "  total_cost = total_cost + (f_wb[i] - y[i]) ** 2\n",
            "<ipython-input-9-d0f27e7a3547>:22: RuntimeWarning: overflow encountered in scalar add\n",
            "  dj_dw2 += (f_wb[i] - y[i]) * x[i] ** 2\n",
            "<ipython-input-9-d0f27e7a3547>:22: RuntimeWarning: overflow encountered in scalar multiply\n",
            "  dj_dw2 += (f_wb[i] - y[i]) * x[i] ** 2\n",
            "<ipython-input-3-36586b913530>:14: RuntimeWarning: invalid value encountered in scalar multiply\n",
            "  f_wb[i] = w2 * x[i]**2 + w1 * x[i] + b\n"
          ]
        },
        {
          "output_type": "stream",
          "name": "stdout",
          "text": [
            "Ітерація 7000: Вартість nan,  dj_dw1:  nan, dj_dw2:  nan, dj_db:  nan,  w1:  nan, w2:  nan, b:  nan\n",
            "Ітерація 8000: Вартість nan,  dj_dw1:  nan, dj_dw2:  nan, dj_db:  nan,  w1:  nan, w2:  nan, b:  nan\n",
            "Ітерація 9000: Вартість nan,  dj_dw1:  nan, dj_dw2:  nan, dj_db:  nan,  w1:  nan, w2:  nan, b:  nan\n",
            "Ітерація 9999: Вартість nan,  dj_dw1:  nan, dj_dw2:  nan, dj_db:  nan,  w1:  nan, w2:  nan, b:  nan\n"
          ]
        }
      ]
    },
    {
      "cell_type": "code",
      "source": [
        "alpha /= 10\n",
        "w1, w2, b, J_history, p_history = gradient_descent(x_train, y_train, w1_init, w2_init, b_init, alpha, iterations)"
      ],
      "metadata": {
        "colab": {
          "base_uri": "https://localhost:8080/"
        },
        "id": "rj7N14gQh7QF",
        "outputId": "1eb35dfe-6297-417f-db36-99db2993918a"
      },
      "execution_count": 13,
      "outputs": [
        {
          "output_type": "stream",
          "name": "stdout",
          "text": [
            "Ітерація    0: Вартість 2.94e+11,  dj_dw1: -4.504e+04, dj_dw2: -1.347e+06, dj_db: -1.649e+03,  w1:  4.104e+01, w2:  1.343e+03, b:  2.01649e+02\n",
            "Ітерація 1000: Вартість nan,  dj_dw1:  nan, dj_dw2:  nan, dj_db:  nan,  w1:  nan, w2:  nan, b:  nan\n",
            "Ітерація 2000: Вартість nan,  dj_dw1:  nan, dj_dw2:  nan, dj_db:  nan,  w1:  nan, w2:  nan, b:  nan\n",
            "Ітерація 3000: Вартість nan,  dj_dw1:  nan, dj_dw2:  nan, dj_db:  nan,  w1:  nan, w2:  nan, b:  nan\n",
            "Ітерація 4000: Вартість nan,  dj_dw1:  nan, dj_dw2:  nan, dj_db:  nan,  w1:  nan, w2:  nan, b:  nan\n",
            "Ітерація 5000: Вартість nan,  dj_dw1:  nan, dj_dw2:  nan, dj_db:  nan,  w1:  nan, w2:  nan, b:  nan\n",
            "Ітерація 6000: Вартість nan,  dj_dw1:  nan, dj_dw2:  nan, dj_db:  nan,  w1:  nan, w2:  nan, b:  nan\n"
          ]
        },
        {
          "output_type": "stream",
          "name": "stderr",
          "text": [
            "<ipython-input-7-b672f3308120>:17: RuntimeWarning: overflow encountered in scalar add\n",
            "  total_cost = total_cost + (f_wb[i] - y[i]) ** 2\n",
            "<ipython-input-7-b672f3308120>:17: RuntimeWarning: overflow encountered in scalar power\n",
            "  total_cost = total_cost + (f_wb[i] - y[i]) ** 2\n",
            "<ipython-input-9-d0f27e7a3547>:22: RuntimeWarning: overflow encountered in scalar add\n",
            "  dj_dw2 += (f_wb[i] - y[i]) * x[i] ** 2\n",
            "<ipython-input-3-36586b913530>:14: RuntimeWarning: invalid value encountered in scalar multiply\n",
            "  f_wb[i] = w2 * x[i]**2 + w1 * x[i] + b\n"
          ]
        },
        {
          "output_type": "stream",
          "name": "stdout",
          "text": [
            "Ітерація 7000: Вартість nan,  dj_dw1:  nan, dj_dw2:  nan, dj_db:  nan,  w1:  nan, w2:  nan, b:  nan\n",
            "Ітерація 8000: Вартість nan,  dj_dw1:  nan, dj_dw2:  nan, dj_db:  nan,  w1:  nan, w2:  nan, b:  nan\n",
            "Ітерація 9000: Вартість nan,  dj_dw1:  nan, dj_dw2:  nan, dj_db:  nan,  w1:  nan, w2:  nan, b:  nan\n",
            "Ітерація 9999: Вартість nan,  dj_dw1:  nan, dj_dw2:  nan, dj_db:  nan,  w1:  nan, w2:  nan, b:  nan\n"
          ]
        }
      ]
    },
    {
      "cell_type": "code",
      "source": [
        "alpha /= 10\n",
        "w1, w2, b, J_history, p_history = gradient_descent(x_train, y_train, w1_init, w2_init, b_init, alpha, iterations)"
      ],
      "metadata": {
        "colab": {
          "base_uri": "https://localhost:8080/"
        },
        "id": "9yY2YbiEiLq5",
        "outputId": "2aad7a93-8313-4ea9-ba78-6c1c827880e4"
      },
      "execution_count": 14,
      "outputs": [
        {
          "output_type": "stream",
          "name": "stdout",
          "text": [
            "Ітерація    0: Вартість 2.78e+09,  dj_dw1: -4.504e+04, dj_dw2: -1.347e+06, dj_db: -1.649e+03,  w1:  5.044e-01, w2:  1.307e+02, b:  2.00165e+02\n",
            "Ітерація 1000: Вартість nan,  dj_dw1:  nan, dj_dw2:  nan, dj_db:  nan,  w1:  nan, w2:  nan, b:  nan\n",
            "Ітерація 2000: Вартість nan,  dj_dw1:  nan, dj_dw2:  nan, dj_db:  nan,  w1:  nan, w2:  nan, b:  nan\n",
            "Ітерація 3000: Вартість nan,  dj_dw1:  nan, dj_dw2:  nan, dj_db:  nan,  w1:  nan, w2:  nan, b:  nan\n",
            "Ітерація 4000: Вартість nan,  dj_dw1:  nan, dj_dw2:  nan, dj_db:  nan,  w1:  nan, w2:  nan, b:  nan\n",
            "Ітерація 5000: Вартість nan,  dj_dw1:  nan, dj_dw2:  nan, dj_db:  nan,  w1:  nan, w2:  nan, b:  nan\n"
          ]
        },
        {
          "output_type": "stream",
          "name": "stderr",
          "text": [
            "<ipython-input-7-b672f3308120>:17: RuntimeWarning: overflow encountered in scalar power\n",
            "  total_cost = total_cost + (f_wb[i] - y[i]) ** 2\n",
            "<ipython-input-9-d0f27e7a3547>:22: RuntimeWarning: overflow encountered in scalar add\n",
            "  dj_dw2 += (f_wb[i] - y[i]) * x[i] ** 2\n",
            "<ipython-input-3-36586b913530>:14: RuntimeWarning: invalid value encountered in scalar multiply\n",
            "  f_wb[i] = w2 * x[i]**2 + w1 * x[i] + b\n"
          ]
        },
        {
          "output_type": "stream",
          "name": "stdout",
          "text": [
            "Ітерація 6000: Вартість nan,  dj_dw1:  nan, dj_dw2:  nan, dj_db:  nan,  w1:  nan, w2:  nan, b:  nan\n",
            "Ітерація 7000: Вартість nan,  dj_dw1:  nan, dj_dw2:  nan, dj_db:  nan,  w1:  nan, w2:  nan, b:  nan\n",
            "Ітерація 8000: Вартість nan,  dj_dw1:  nan, dj_dw2:  nan, dj_db:  nan,  w1:  nan, w2:  nan, b:  nan\n",
            "Ітерація 9000: Вартість nan,  dj_dw1:  nan, dj_dw2:  nan, dj_db:  nan,  w1:  nan, w2:  nan, b:  nan\n",
            "Ітерація 9999: Вартість nan,  dj_dw1:  nan, dj_dw2:  nan, dj_db:  nan,  w1:  nan, w2:  nan, b:  nan\n"
          ]
        }
      ]
    },
    {
      "cell_type": "code",
      "source": [
        "alpha /= 10\n",
        "w1, w2, b, J_history, p_history = gradient_descent(x_train, y_train, w1_init, w2_init, b_init, alpha, iterations)"
      ],
      "metadata": {
        "colab": {
          "base_uri": "https://localhost:8080/"
        },
        "id": "BHpOuS8AoFw6",
        "outputId": "795c3bc4-66c1-4fed-e70e-beeb28b96a63"
      },
      "execution_count": 15,
      "outputs": [
        {
          "output_type": "stream",
          "name": "stdout",
          "text": [
            "Ітерація    0: Вартість 1.42e+07,  dj_dw1: -4.504e+04, dj_dw2: -1.347e+06, dj_db: -1.649e+03,  w1: -3.550e+00, w2:  9.472e+00, b:  2.00016e+02\n",
            "Ітерація 1000: Вартість nan,  dj_dw1:  nan, dj_dw2:  nan, dj_db:  nan,  w1:  nan, w2:  nan, b:  nan\n",
            "Ітерація 2000: Вартість nan,  dj_dw1:  nan, dj_dw2:  nan, dj_db:  nan,  w1:  nan, w2:  nan, b:  nan\n",
            "Ітерація 3000: Вартість nan,  dj_dw1:  nan, dj_dw2:  nan, dj_db:  nan,  w1:  nan, w2:  nan, b:  nan\n"
          ]
        },
        {
          "output_type": "stream",
          "name": "stderr",
          "text": [
            "<ipython-input-7-b672f3308120>:17: RuntimeWarning: overflow encountered in scalar add\n",
            "  total_cost = total_cost + (f_wb[i] - y[i]) ** 2\n",
            "<ipython-input-7-b672f3308120>:17: RuntimeWarning: overflow encountered in scalar power\n",
            "  total_cost = total_cost + (f_wb[i] - y[i]) ** 2\n",
            "<ipython-input-9-d0f27e7a3547>:22: RuntimeWarning: overflow encountered in scalar add\n",
            "  dj_dw2 += (f_wb[i] - y[i]) * x[i] ** 2\n",
            "<ipython-input-3-36586b913530>:14: RuntimeWarning: invalid value encountered in scalar multiply\n",
            "  f_wb[i] = w2 * x[i]**2 + w1 * x[i] + b\n"
          ]
        },
        {
          "output_type": "stream",
          "name": "stdout",
          "text": [
            "Ітерація 4000: Вартість nan,  dj_dw1:  nan, dj_dw2:  nan, dj_db:  nan,  w1:  nan, w2:  nan, b:  nan\n",
            "Ітерація 5000: Вартість nan,  dj_dw1:  nan, dj_dw2:  nan, dj_db:  nan,  w1:  nan, w2:  nan, b:  nan\n",
            "Ітерація 6000: Вартість nan,  dj_dw1:  nan, dj_dw2:  nan, dj_db:  nan,  w1:  nan, w2:  nan, b:  nan\n",
            "Ітерація 7000: Вартість nan,  dj_dw1:  nan, dj_dw2:  nan, dj_db:  nan,  w1:  nan, w2:  nan, b:  nan\n",
            "Ітерація 8000: Вартість nan,  dj_dw1:  nan, dj_dw2:  nan, dj_db:  nan,  w1:  nan, w2:  nan, b:  nan\n",
            "Ітерація 9000: Вартість nan,  dj_dw1:  nan, dj_dw2:  nan, dj_db:  nan,  w1:  nan, w2:  nan, b:  nan\n",
            "Ітерація 9999: Вартість nan,  dj_dw1:  nan, dj_dw2:  nan, dj_db:  nan,  w1:  nan, w2:  nan, b:  nan\n"
          ]
        }
      ]
    },
    {
      "cell_type": "code",
      "source": [
        "alpha /= 10\n",
        "w1, w2, b, J_history, p_history = gradient_descent(x_train, y_train, w1_init, w2_init, b_init, alpha, iterations)"
      ],
      "metadata": {
        "colab": {
          "base_uri": "https://localhost:8080/"
        },
        "id": "yWWLg_CyUMno",
        "outputId": "6d6e4fb2-3932-48b0-dcc3-bd260e60192a"
      },
      "execution_count": 16,
      "outputs": [
        {
          "output_type": "stream",
          "name": "stdout",
          "text": [
            "Ітерація    0: Вартість 1.27e+06,  dj_dw1: -4.504e+04, dj_dw2: -1.347e+06, dj_db: -1.649e+03,  w1: -3.955e+00, w2: -2.653e+00, b:  2.00002e+02\n",
            "Ітерація 1000: Вартість 1.18e+03,  dj_dw1:  6.654e+01, dj_dw2: -2.199e+00, dj_db: -2.412e+01,  w1: -3.929e+00, w2:  1.455e-01, b:  2.00029e+02\n",
            "Ітерація 2000: Вартість 1.18e+03,  dj_dw1:  6.478e+01, dj_dw2: -2.140e+00, dj_db: -2.424e+01,  w1: -3.994e+00, w2:  1.477e-01, b:  2.00053e+02\n",
            "Ітерація 3000: Вартість 1.17e+03,  dj_dw1:  6.307e+01, dj_dw2: -2.083e+00, dj_db: -2.434e+01,  w1: -4.058e+00, w2:  1.498e-01, b:  2.00078e+02\n",
            "Ітерація 4000: Вартість 1.17e+03,  dj_dw1:  6.141e+01, dj_dw2: -2.027e+00, dj_db: -2.445e+01,  w1: -4.121e+00, w2:  1.519e-01, b:  2.00102e+02\n",
            "Ітерація 5000: Вартість 1.16e+03,  dj_dw1:  5.978e+01, dj_dw2: -1.972e+00, dj_db: -2.455e+01,  w1: -4.181e+00, w2:  1.539e-01, b:  2.00126e+02\n",
            "Ітерація 6000: Вартість 1.16e+03,  dj_dw1:  5.821e+01, dj_dw2: -1.919e+00, dj_db: -2.465e+01,  w1: -4.240e+00, w2:  1.558e-01, b:  2.00151e+02\n",
            "Ітерація 7000: Вартість 1.16e+03,  dj_dw1:  5.667e+01, dj_dw2: -1.868e+00, dj_db: -2.474e+01,  w1: -4.298e+00, w2:  1.577e-01, b:  2.00176e+02\n",
            "Ітерація 8000: Вартість 1.15e+03,  dj_dw1:  5.518e+01, dj_dw2: -1.818e+00, dj_db: -2.483e+01,  w1: -4.354e+00, w2:  1.595e-01, b:  2.00201e+02\n",
            "Ітерація 9000: Вартість 1.15e+03,  dj_dw1:  5.373e+01, dj_dw2: -1.769e+00, dj_db: -2.492e+01,  w1: -4.408e+00, w2:  1.613e-01, b:  2.00225e+02\n",
            "Ітерація 9999: Вартість 1.15e+03,  dj_dw1:  5.232e+01, dj_dw2: -1.722e+00, dj_db: -2.501e+01,  w1: -4.461e+00, w2:  1.631e-01, b:  2.00250e+02\n"
          ]
        }
      ]
    },
    {
      "cell_type": "code",
      "source": [
        "alpha = 0.00003"
      ],
      "metadata": {
        "id": "m5gD1IxHoRDr"
      },
      "execution_count": 17,
      "outputs": []
    },
    {
      "cell_type": "code",
      "source": [
        "iterations = 100000"
      ],
      "metadata": {
        "id": "OqPwPWFaoLq8"
      },
      "execution_count": 18,
      "outputs": []
    },
    {
      "cell_type": "code",
      "source": [
        "w1, w2, b, J_history, p_history = gradient_descent(x_train, y_train, w1_init, w2_init, b_init, alpha, iterations)"
      ],
      "metadata": {
        "colab": {
          "base_uri": "https://localhost:8080/"
        },
        "id": "AAm7wUz9oTWz",
        "outputId": "64f253f8-67be-4ccc-8440-7907e2830a08"
      },
      "execution_count": 19,
      "outputs": [
        {
          "output_type": "stream",
          "name": "stdout",
          "text": [
            "Ітерація    0: Вартість 2.14e+08,  dj_dw1: -4.504e+04, dj_dw2: -1.347e+06, dj_db: -1.649e+03,  w1: -2.649e+00, w2:  3.642e+01, b:  2.00049e+02\n"
          ]
        },
        {
          "output_type": "stream",
          "name": "stderr",
          "text": [
            "<ipython-input-7-b672f3308120>:17: RuntimeWarning: overflow encountered in scalar power\n",
            "  total_cost = total_cost + (f_wb[i] - y[i]) ** 2\n",
            "<ipython-input-9-d0f27e7a3547>:22: RuntimeWarning: overflow encountered in scalar add\n",
            "  dj_dw2 += (f_wb[i] - y[i]) * x[i] ** 2\n",
            "<ipython-input-9-d0f27e7a3547>:22: RuntimeWarning: overflow encountered in scalar multiply\n",
            "  dj_dw2 += (f_wb[i] - y[i]) * x[i] ** 2\n",
            "<ipython-input-3-36586b913530>:14: RuntimeWarning: invalid value encountered in scalar multiply\n",
            "  f_wb[i] = w2 * x[i]**2 + w1 * x[i] + b\n"
          ]
        },
        {
          "output_type": "stream",
          "name": "stdout",
          "text": [
            "Ітерація 10000: Вартість nan,  dj_dw1:  nan, dj_dw2:  nan, dj_db:  nan,  w1:  nan, w2:  nan, b:  nan\n",
            "Ітерація 20000: Вартість nan,  dj_dw1:  nan, dj_dw2:  nan, dj_db:  nan,  w1:  nan, w2:  nan, b:  nan\n",
            "Ітерація 30000: Вартість nan,  dj_dw1:  nan, dj_dw2:  nan, dj_db:  nan,  w1:  nan, w2:  nan, b:  nan\n",
            "Ітерація 40000: Вартість nan,  dj_dw1:  nan, dj_dw2:  nan, dj_db:  nan,  w1:  nan, w2:  nan, b:  nan\n",
            "Ітерація 50000: Вартість nan,  dj_dw1:  nan, dj_dw2:  nan, dj_db:  nan,  w1:  nan, w2:  nan, b:  nan\n",
            "Ітерація 60000: Вартість nan,  dj_dw1:  nan, dj_dw2:  nan, dj_db:  nan,  w1:  nan, w2:  nan, b:  nan\n",
            "Ітерація 70000: Вартість nan,  dj_dw1:  nan, dj_dw2:  nan, dj_db:  nan,  w1:  nan, w2:  nan, b:  nan\n",
            "Ітерація 80000: Вартість nan,  dj_dw1:  nan, dj_dw2:  nan, dj_db:  nan,  w1:  nan, w2:  nan, b:  nan\n",
            "Ітерація 90000: Вартість nan,  dj_dw1:  nan, dj_dw2:  nan, dj_db:  nan,  w1:  nan, w2:  nan, b:  nan\n",
            "Ітерація 99999: Вартість nan,  dj_dw1:  nan, dj_dw2:  nan, dj_db:  nan,  w1:  nan, w2:  nan, b:  nan\n"
          ]
        }
      ]
    },
    {
      "cell_type": "markdown",
      "source": [
        "    4. Запуск градієнтного спуску\n",
        "        * Ініціалізуйте початкові значення параметрів\n",
        "        * Виконайте алгоритм градієнтного спуску для знаходження оптимальних параметрів"
      ],
      "metadata": {
        "id": "P3y3cRq6jMQe"
      }
    },
    {
      "cell_type": "code",
      "source": [
        "iterations = 1600000"
      ],
      "metadata": {
        "id": "JsHiFulmikXb"
      },
      "execution_count": 28,
      "outputs": []
    },
    {
      "cell_type": "code",
      "source": [
        "alpha = 0.0000061"
      ],
      "metadata": {
        "id": "TqSUAoBzilWA"
      },
      "execution_count": 29,
      "outputs": []
    },
    {
      "cell_type": "code",
      "source": [
        "w1, w2, b, J_history, p_history = gradient_descent(x_train, y_train, w1_init, w2_init, b_init, alpha, iterations)"
      ],
      "metadata": {
        "colab": {
          "base_uri": "https://localhost:8080/"
        },
        "id": "_GrHMzXyiQoG",
        "outputId": "3756fd0e-659b-47b5-f232-e5ea25027fb8"
      },
      "execution_count": 30,
      "outputs": [
        {
          "output_type": "stream",
          "name": "stdout",
          "text": [
            "Ітерація    0: Вартість 2.70e+06,  dj_dw1: -4.504e+04, dj_dw2: -1.347e+06, dj_db: -1.649e+03,  w1: -3.725e+00, w2:  4.218e+00, b:  2.00010e+02\n",
            "Ітерація 160000: Вартість 5.48e+02,  dj_dw1:  1.350e+00, dj_dw2: -2.178e-02, dj_db: -1.944e+01,  w1: -7.872e+00, w2:  2.499e-01, b:  2.23003e+02\n",
            "Ітерація 320000: Вартість 2.90e+02,  dj_dw1:  9.169e-01, dj_dw2: -1.479e-02, dj_db: -1.320e+01,  w1: -8.965e+00, w2:  2.675e-01, b:  2.38731e+02\n",
            "Ітерація 480000: Вартість 1.71e+02,  dj_dw1:  6.226e-01, dj_dw2: -1.004e-02, dj_db: -8.960e+00,  w1: -9.707e+00, w2:  2.795e-01, b:  2.49411e+02\n",
            "Ітерація 640000: Вартість 1.16e+02,  dj_dw1:  4.227e-01, dj_dw2: -6.817e-03, dj_db: -6.084e+00,  w1: -1.021e+01, w2:  2.876e-01, b:  2.56662e+02\n",
            "Ітерація 800000: Вартість 9.10e+01,  dj_dw1:  2.870e-01, dj_dw2: -4.629e-03, dj_db: -4.131e+00,  w1: -1.055e+01, w2:  2.931e-01, b:  2.61586e+02\n",
            "Ітерація 960000: Вартість 7.94e+01,  dj_dw1:  1.949e-01, dj_dw2: -3.143e-03, dj_db: -2.805e+00,  w1: -1.078e+01, w2:  2.968e-01, b:  2.64929e+02\n",
            "Ітерація 1120000: Вартість 7.40e+01,  dj_dw1:  1.323e-01, dj_dw2: -2.134e-03, dj_db: -1.905e+00,  w1: -1.094e+01, w2:  2.994e-01, b:  2.67199e+02\n",
            "Ітерація 1280000: Вартість 7.15e+01,  dj_dw1:  8.985e-02, dj_dw2: -1.449e-03, dj_db: -1.293e+00,  w1: -1.105e+01, w2:  3.011e-01, b:  2.68740e+02\n",
            "Ітерація 1440000: Вартість 7.04e+01,  dj_dw1:  6.101e-02, dj_dw2: -9.838e-04, dj_db: -8.781e-01,  w1: -1.112e+01, w2:  3.023e-01, b:  2.69786e+02\n",
            "Ітерація 1599999: Вартість 6.99e+01,  dj_dw1:  4.142e-02, dj_dw2: -6.680e-04, dj_db: -5.962e-01,  w1: -1.117e+01, w2:  3.031e-01, b:  2.70497e+02\n"
          ]
        }
      ]
    },
    {
      "cell_type": "code",
      "source": [
        "y_hat = compute_model_output(x_train, w1, w2, b)"
      ],
      "metadata": {
        "id": "ZiOBUH5BjfDB"
      },
      "execution_count": 31,
      "outputs": []
    },
    {
      "cell_type": "code",
      "source": [
        "w1, w2, b"
      ],
      "metadata": {
        "colab": {
          "base_uri": "https://localhost:8080/"
        },
        "id": "Oto7B1OmpFh9",
        "outputId": "e23ddfa1-c489-4d8f-a020-31595e7600fc"
      },
      "execution_count": 32,
      "outputs": [
        {
          "output_type": "execute_result",
          "data": {
            "text/plain": [
              "(np.float64(-11.171761228854031),\n",
              " np.float64(0.30307779298607374),\n",
              " np.float64(270.4969789048082))"
            ]
          },
          "metadata": {},
          "execution_count": 32
        }
      ]
    },
    {
      "cell_type": "code",
      "source": [
        "plt.figure(figsize=(10, 6))\n",
        "plt.scatter(x_train, y_hat, marker='o', c='b', s=100, label='Обчислені дані')"
      ],
      "metadata": {
        "colab": {
          "base_uri": "https://localhost:8080/",
          "height": 539
        },
        "id": "Rl_1MVhBpBQn",
        "outputId": "6c686fff-f168-4ff8-89d3-b8ab825b69c8"
      },
      "execution_count": 33,
      "outputs": [
        {
          "output_type": "execute_result",
          "data": {
            "text/plain": [
              "<matplotlib.collections.PathCollection at 0x7ef54160dd90>"
            ]
          },
          "metadata": {},
          "execution_count": 33
        },
        {
          "output_type": "display_data",
          "data": {
            "text/plain": [
              "<Figure size 1000x600 with 1 Axes>"
            ],
            "image/png": "[encoded data removed]"
          },
          "metadata": {}
        }
      ]
    },
    {
      "cell_type": "code",
      "source": [
        "plt.figure(figsize=(10, 6))\n",
        "plt.scatter(x_train, y_hat, marker='o', c='b', s=100, label='Обчислені дані') + plt.scatter(x_train, y_train, marker='x', c='r', s=100, label='Навчальні дані')"
      ],
      "metadata": {
        "colab": {
          "base_uri": "https://localhost:8080/",
          "height": 664
        },
        "id": "PUOCvj5qjzVL",
        "outputId": "5e661397-78c1-41a1-9af8-4051e39e6004"
      },
      "execution_count": 34,
      "outputs": [
        {
          "output_type": "error",
          "ename": "TypeError",
          "evalue": "unsupported operand type(s) for +: 'PathCollection' and 'PathCollection'",
          "traceback": [
            "\u001b[0;31m---------------------------------------------------------------------------\u001b[0m",
            "\u001b[0;31mTypeError\u001b[0m                                 Traceback (most recent call last)",
            "\u001b[0;32m<ipython-input-34-7bf35d6e3e2f>\u001b[0m in \u001b[0;36m<cell line: 0>\u001b[0;34m()\u001b[0m\n\u001b[1;32m      1\u001b[0m \u001b[0mplt\u001b[0m\u001b[0;34m.\u001b[0m\u001b[0mfigure\u001b[0m\u001b[0;34m(\u001b[0m\u001b[0mfigsize\u001b[0m\u001b[0;34m=\u001b[0m\u001b[0;34m(\u001b[0m\u001b[0;36m10\u001b[0m\u001b[0;34m,\u001b[0m \u001b[0;36m6\u001b[0m\u001b[0;34m)\u001b[0m\u001b[0;34m)\u001b[0m\u001b[0;34m\u001b[0m\u001b[0;34m\u001b[0m\u001b[0m\n\u001b[0;32m----> 2\u001b[0;31m \u001b[0mplt\u001b[0m\u001b[0;34m.\u001b[0m\u001b[0mscatter\u001b[0m\u001b[0;34m(\u001b[0m\u001b[0mx_train\u001b[0m\u001b[0;34m,\u001b[0m \u001b[0my_hat\u001b[0m\u001b[0;34m,\u001b[0m \u001b[0mmarker\u001b[0m\u001b[0;34m=\u001b[0m\u001b[0;34m'o'\u001b[0m\u001b[0;34m,\u001b[0m \u001b[0mc\u001b[0m\u001b[0;34m=\u001b[0m\u001b[0;34m'b'\u001b[0m\u001b[0;34m,\u001b[0m \u001b[0ms\u001b[0m\u001b[0;34m=\u001b[0m\u001b[0;36m100\u001b[0m\u001b[0;34m,\u001b[0m \u001b[0mlabel\u001b[0m\u001b[0;34m=\u001b[0m\u001b[0;34m'Обчислені дані'\u001b[0m\u001b[0;34m)\u001b[0m \u001b[0;34m+\u001b[0m \u001b[0mplt\u001b[0m\u001b[0;34m.\u001b[0m\u001b[0mscatter\u001b[0m\u001b[0;34m(\u001b[0m\u001b[0mx_train\u001b[0m\u001b[0;34m,\u001b[0m \u001b[0my_train\u001b[0m\u001b[0;34m,\u001b[0m \u001b[0mmarker\u001b[0m\u001b[0;34m=\u001b[0m\u001b[0;34m'x'\u001b[0m\u001b[0;34m,\u001b[0m \u001b[0mc\u001b[0m\u001b[0;34m=\u001b[0m\u001b[0;34m'r'\u001b[0m\u001b[0;34m,\u001b[0m \u001b[0ms\u001b[0m\u001b[0;34m=\u001b[0m\u001b[0;36m100\u001b[0m\u001b[0;34m,\u001b[0m \u001b[0mlabel\u001b[0m\u001b[0;34m=\u001b[0m\u001b[0;34m'Навчальні дані'\u001b[0m\u001b[0;34m)\u001b[0m\u001b[0;34m\u001b[0m\u001b[0;34m\u001b[0m\u001b[0m\n\u001b[0m",
            "\u001b[0;31mTypeError\u001b[0m: unsupported operand type(s) for +: 'PathCollection' and 'PathCollection'"
          ]
        },
        {
          "output_type": "display_data",
          "data": {
            "text/plain": [
              "<Figure size 1000x600 with 1 Axes>"
            ],
            "image/png": "[encoded data removed]"
          },
          "metadata": {}
        }
      ]
    },
    {
      "cell_type": "markdown",
      "source": [
        "    5. Аналіз та візуалізація результатів\n",
        "        ◦ Візуалізуйте дані та отриману модель\n",
        "        ◦ Проаналізуйте процес навчання (зміну функції вартості)\n",
        "        ◦ Використайте модель для прогнозування"
      ],
      "metadata": {
        "id": "YCGl7qaijT1R"
      }
    },
    {
      "cell_type": "code",
      "source": [
        "# Обчислення значень моделі для виводу лінії\n",
        "x_line = np.linspace(np.min(x_train) * 0.8, np.max(x_train) * 1.2, 100)\n",
        "y_line = w1 * x_line + w2 * x_line ** 2 + b\n",
        "\n",
        "plt.plot(x_line, y_line, 'b-', label='Модель')\n",
        "plt.xlabel('Вхідний параметр x')\n",
        "plt.ylabel('Цільове значення y')\n",
        "plt.title('Лінійна регресія: дані та модель')\n",
        "plt.legend()\n",
        "plt.grid(True)\n",
        "plt.show()\n"
      ],
      "metadata": {
        "colab": {
          "base_uri": "https://localhost:8080/",
          "height": 472
        },
        "id": "TaLvAs2kiaOO",
        "outputId": "2fb56416-1d5a-4b7b-b9f5-7e57faaa5c27"
      },
      "execution_count": 35,
      "outputs": [
        {
          "output_type": "display_data",
          "data": {
            "text/plain": [
              "<Figure size 640x480 with 1 Axes>"
            ],
            "image/png": "[encoded data removed]"
          },
          "metadata": {}
        }
      ]
    },
    {
      "cell_type": "code",
      "source": [
        "# 6.2 Візуалізація зміни функції вартості\n",
        "plt.figure(figsize=(12, 5))\n",
        "plt.subplot(1, 2, 1)\n",
        "plt.plot(J_history[:100])\n",
        "plt.title('Вартість vs. ітерації (початок)')\n",
        "plt.xlabel('Ітерації')\n",
        "plt.ylabel('Вартість')\n",
        "\n",
        "plt.subplot(1, 2, 2)\n",
        "plt.plot(range(100, len(J_history)), J_history[100:])\n",
        "plt.title('Вартість vs. ітерації (кінець)')\n",
        "plt.xlabel('Ітерації')\n",
        "plt.ylabel('Вартість')\n",
        "plt.grid(True)\n",
        "plt.tight_layout()\n",
        "plt.show()"
      ],
      "metadata": {
        "colab": {
          "base_uri": "https://localhost:8080/",
          "height": 507
        },
        "id": "cHUKC1eZki-J",
        "outputId": "4c75ade0-6748-4961-9199-0a988ac1bd9d"
      },
      "execution_count": 36,
      "outputs": [
        {
          "output_type": "display_data",
          "data": {
            "text/plain": [
              "<Figure size 1200x500 with 2 Axes>"
            ],
            "image/png": "[encoded data removed]"
          },
          "metadata": {}
        }
      ]
    },
    {
      "cell_type": "code",
      "source": [
        "# 7. Використання моделі для прогнозування\n",
        "def predict(x, w1, w2, b):\n",
        "    \"\"\"\n",
        "    Прогнозування за допомогою лінійної моделі\n",
        "\n",
        "    Аргументи:\n",
        "      x (скаляр): вхідне значення для прогнозування\n",
        "      w, b (скаляри): параметри моделі\n",
        "\n",
        "    Повертає:\n",
        "      y_pred (скаляр): прогнозоване значення\n",
        "    \"\"\"\n",
        "    return w1 * x + w2 * x*x + b\n"
      ],
      "metadata": {
        "id": "nOMRhhy3ky_b"
      },
      "execution_count": 37,
      "outputs": []
    },
    {
      "cell_type": "code",
      "source": [
        "# Приклади прогнозування\n",
        "test_values = [np.min(x_train), np.max(x_train), (np.min(x_train) + np.max(x_train)) / 2]\n",
        "print(\"\\nПрогнози моделі:\")\n",
        "for x_value in test_values:\n",
        "    y_pred = predict(x_value, w1, w2, b)\n",
        "    print(f\"При x = {x_value:.2f}, прогноз y = {y_pred:.2f}\")\n",
        "\n",
        "# Додатковий аналіз - коефіцієнт детермінації R²\n",
        "def r_squared(y_true, y_pred):\n",
        "    \"\"\"\n",
        "    Обчислює коефіцієнт детермінації R²\n",
        "\n",
        "    Аргументи:\n",
        "      y_true (ndarray): фактичні значення\n",
        "      y_pred (ndarray): прогнозовані значення\n",
        "\n",
        "    Повертає:\n",
        "      r2 (скаляр): коефіцієнт детермінації\n",
        "    \"\"\"\n",
        "    ss_total = np.sum((y_true - np.mean(y_true))**2)\n",
        "    ss_residual = np.sum((y_true - y_pred)**2)\n",
        "    r2 = 1 - (ss_residual / ss_total)\n",
        "    return r2\n",
        "\n",
        "# Обчислення прогнозів для навчальних даних\n",
        "y_pred_train = w1 * x_train + w2 * x_train**2 + b\n",
        "\n",
        "# Обчислення R²\n",
        "r2 = r_squared(y_train, y_pred_train)\n",
        "print(f\"\\nКоефіцієнт детермінації (R²): {r2:.4f}\")\n"
      ],
      "metadata": {
        "colab": {
          "base_uri": "https://localhost:8080/"
        },
        "id": "WGPxRJS0lQ8x",
        "outputId": "284d8330-70a5-45cc-83ad-a74022be25cd"
      },
      "execution_count": 38,
      "outputs": [
        {
          "output_type": "stream",
          "name": "stdout",
          "text": [
            "\n",
            "Прогнози моделі:\n",
            "При x = -5.00, прогноз y = 333.93\n",
            "При x = 35.00, прогноз y = 250.76\n",
            "При x = 15.00, прогноз y = 171.11\n",
            "\n",
            "Коефіцієнт детермінації (R²): 0.9515\n"
          ]
        }
      ]
    },
    {
      "cell_type": "code",
      "source": [],
      "metadata": {
        "id": "BIt0dFoElUtl"
      },
      "execution_count": null,
      "outputs": []
    }
  ]
}