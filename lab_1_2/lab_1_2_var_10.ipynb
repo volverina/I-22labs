{
  "nbformat": 4,
  "nbformat_minor": 0,
  "metadata": {
    "colab": {
      "provenance": []
    },
    "kernelspec": {
      "name": "python3",
      "display_name": "Python 3"
    },
    "language_info": {
      "name": "python"
    }
  },
  "cells": [
    {
      "cell_type": "markdown",
      "source": [
        "Лабораторна робота 1.2 студента С. О. Семерікова\n",
        "\n",
        "Варіант 10: Medical Cost Personal Dataset\n",
        "\n",
        "Опис: Прогнозування персональних медичних витрат на основі демографічних та медичних даних.\n",
        "\n",
        "Джерело даних: Kaggle Medical Cost Personal Dataset\n",
        "\n",
        "Отримання та використання даних:\n",
        "\n",
        "    1. Завантажте файл даних з Kaggle (https://www.kaggle.com/datasets/mirichoi0218/insurance)\n",
        "    2. Дані представлені у форматі CSV\n",
        "    3. Використовуйте pandas для завантаження даних:\n"
      ],
      "metadata": {
        "id": "9kBCm6A-y92d"
      }
    },
    {
      "cell_type": "markdown",
      "source": [
        "    1. Вибір варіанту завдання\n",
        "            ▪ Оберіть один з 10 варіантів завдань відповідно до свого номеру в групі або за вказівкою викладача.\n",
        "        ◦ Ознайомтеся з описом набору даних та способом його отримання."
      ],
      "metadata": {
        "id": "3mKAGhdY1A62"
      }
    },
    {
      "cell_type": "code",
      "execution_count": 16,
      "metadata": {
        "colab": {
          "base_uri": "https://localhost:8080/"
        },
        "id": "LnRneRssyu2Y",
        "outputId": "45eabb43-cc7f-4ca5-a40b-6e0ec3554b09"
      },
      "outputs": [
        {
          "output_type": "stream",
          "name": "stdout",
          "text": [
            "Warning: Looks like you're using an outdated `kagglehub` version (installed: 0.3.11), please consider upgrading to the latest version (0.3.12).\n",
            "Downloading from https://www.kaggle.com/api/v1/datasets/download/mirichoi0218/insurance?dataset_version_number=1...\n"
          ]
        },
        {
          "output_type": "stream",
          "name": "stderr",
          "text": [
            "100%|██████████| 16.0k/16.0k [00:00<00:00, 15.0MB/s]"
          ]
        },
        {
          "output_type": "stream",
          "name": "stdout",
          "text": [
            "Extracting files...\n"
          ]
        },
        {
          "output_type": "stream",
          "name": "stderr",
          "text": [
            "\n"
          ]
        }
      ],
      "source": [
        "import pandas as pd\n",
        "import kagglehub\n",
        "\n",
        "# Download latest version\n",
        "path = kagglehub.dataset_download(\"mirichoi0218/insurance\")\n",
        "\n",
        "# Після завантаження файлу\n",
        "df = pd.read_csv(path + '/' + 'insurance.csv')\n",
        "# Перетворіть категоріальні змінні за допомогою one-hot encoding\n",
        "df = pd.get_dummies(df, columns=['sex', 'smoker', 'region'], drop_first=True)\n",
        "# Виберіть features (X) та цільову змінну (y)\n",
        "X = df.drop('charges', axis=1).values\n",
        "y = df['charges'].values"
      ]
    },
    {
      "cell_type": "code",
      "source": [
        "df"
      ],
      "metadata": {
        "colab": {
          "base_uri": "https://localhost:8080/",
          "height": 423
        },
        "id": "2IkyamJM_Tns",
        "outputId": "da4abcdc-37b1-45c9-f84c-f2ce94fe00b8"
      },
      "execution_count": 50,
      "outputs": [
        {
          "output_type": "execute_result",
          "data": {
            "text/plain": [
              "      age     bmi  children      charges  sex_male  smoker_yes  \\\n",
              "0      19  27.900         0  16884.92400     False        True   \n",
              "1      18  33.770         1   1725.55230      True       False   \n",
              "2      28  33.000         3   4449.46200      True       False   \n",
              "3      33  22.705         0  21984.47061      True       False   \n",
              "4      32  28.880         0   3866.85520      True       False   \n",
              "...   ...     ...       ...          ...       ...         ...   \n",
              "1333   50  30.970         3  10600.54830      True       False   \n",
              "1334   18  31.920         0   2205.98080     False       False   \n",
              "1335   18  36.850         0   1629.83350     False       False   \n",
              "1336   21  25.800         0   2007.94500     False       False   \n",
              "1337   61  29.070         0  29141.36030     False        True   \n",
              "\n",
              "      region_northwest  region_southeast  region_southwest  \n",
              "0                False             False              True  \n",
              "1                False              True             False  \n",
              "2                False              True             False  \n",
              "3                 True             False             False  \n",
              "4                 True             False             False  \n",
              "...                ...               ...               ...  \n",
              "1333              True             False             False  \n",
              "1334             False             False             False  \n",
              "1335             False              True             False  \n",
              "1336             False             False              True  \n",
              "1337              True             False             False  \n",
              "\n",
              "[1338 rows x 9 columns]"
            ],
            "text/html": [
              "\n",
              "  <div id=\"df-0cead4b1-3adf-4a12-b888-e75c530b4506\" class=\"colab-df-container\">\n",
              "    <div>\n",
              "<style scoped>\n",
              "    .dataframe tbody tr th:only-of-type {\n",
              "        vertical-align: middle;\n",
              "    }\n",
              "\n",
              "    .dataframe tbody tr th {\n",
              "        vertical-align: top;\n",
              "    }\n",
              "\n",
              "    .dataframe thead th {\n",
              "        text-align: right;\n",
              "    }\n",
              "</style>\n",
              "<table border=\"1\" class=\"dataframe\">\n",
              "  <thead>\n",
              "    <tr style=\"text-align: right;\">\n",
              "      <th></th>\n",
              "      <th>age</th>\n",
              "      <th>bmi</th>\n",
              "      <th>children</th>\n",
              "      <th>charges</th>\n",
              "      <th>sex_male</th>\n",
              "      <th>smoker_yes</th>\n",
              "      <th>region_northwest</th>\n",
              "      <th>region_southeast</th>\n",
              "      <th>region_southwest</th>\n",
              "    </tr>\n",
              "  </thead>\n",
              "  <tbody>\n",
              "    <tr>\n",
              "      <th>0</th>\n",
              "      <td>19</td>\n",
              "      <td>27.900</td>\n",
              "      <td>0</td>\n",
              "      <td>16884.92400</td>\n",
              "      <td>False</td>\n",
              "      <td>True</td>\n",
              "      <td>False</td>\n",
              "      <td>False</td>\n",
              "      <td>True</td>\n",
              "    </tr>\n",
              "    <tr>\n",
              "      <th>1</th>\n",
              "      <td>18</td>\n",
              "      <td>33.770</td>\n",
              "      <td>1</td>\n",
              "      <td>1725.55230</td>\n",
              "      <td>True</td>\n",
              "      <td>False</td>\n",
              "      <td>False</td>\n",
              "      <td>True</td>\n",
              "      <td>False</td>\n",
              "    </tr>\n",
              "    <tr>\n",
              "      <th>2</th>\n",
              "      <td>28</td>\n",
              "      <td>33.000</td>\n",
              "      <td>3</td>\n",
              "      <td>4449.46200</td>\n",
              "      <td>True</td>\n",
              "      <td>False</td>\n",
              "      <td>False</td>\n",
              "      <td>True</td>\n",
              "      <td>False</td>\n",
              "    </tr>\n",
              "    <tr>\n",
              "      <th>3</th>\n",
              "      <td>33</td>\n",
              "      <td>22.705</td>\n",
              "      <td>0</td>\n",
              "      <td>21984.47061</td>\n",
              "      <td>True</td>\n",
              "      <td>False</td>\n",
              "      <td>True</td>\n",
              "      <td>False</td>\n",
              "      <td>False</td>\n",
              "    </tr>\n",
              "    <tr>\n",
              "      <th>4</th>\n",
              "      <td>32</td>\n",
              "      <td>28.880</td>\n",
              "      <td>0</td>\n",
              "      <td>3866.85520</td>\n",
              "      <td>True</td>\n",
              "      <td>False</td>\n",
              "      <td>True</td>\n",
              "      <td>False</td>\n",
              "      <td>False</td>\n",
              "    </tr>\n",
              "    <tr>\n",
              "      <th>...</th>\n",
              "      <td>...</td>\n",
              "      <td>...</td>\n",
              "      <td>...</td>\n",
              "      <td>...</td>\n",
              "      <td>...</td>\n",
              "      <td>...</td>\n",
              "      <td>...</td>\n",
              "      <td>...</td>\n",
              "      <td>...</td>\n",
              "    </tr>\n",
              "    <tr>\n",
              "      <th>1333</th>\n",
              "      <td>50</td>\n",
              "      <td>30.970</td>\n",
              "      <td>3</td>\n",
              "      <td>10600.54830</td>\n",
              "      <td>True</td>\n",
              "      <td>False</td>\n",
              "      <td>True</td>\n",
              "      <td>False</td>\n",
              "      <td>False</td>\n",
              "    </tr>\n",
              "    <tr>\n",
              "      <th>1334</th>\n",
              "      <td>18</td>\n",
              "      <td>31.920</td>\n",
              "      <td>0</td>\n",
              "      <td>2205.98080</td>\n",
              "      <td>False</td>\n",
              "      <td>False</td>\n",
              "      <td>False</td>\n",
              "      <td>False</td>\n",
              "      <td>False</td>\n",
              "    </tr>\n",
              "    <tr>\n",
              "      <th>1335</th>\n",
              "      <td>18</td>\n",
              "      <td>36.850</td>\n",
              "      <td>0</td>\n",
              "      <td>1629.83350</td>\n",
              "      <td>False</td>\n",
              "      <td>False</td>\n",
              "      <td>False</td>\n",
              "      <td>True</td>\n",
              "      <td>False</td>\n",
              "    </tr>\n",
              "    <tr>\n",
              "      <th>1336</th>\n",
              "      <td>21</td>\n",
              "      <td>25.800</td>\n",
              "      <td>0</td>\n",
              "      <td>2007.94500</td>\n",
              "      <td>False</td>\n",
              "      <td>False</td>\n",
              "      <td>False</td>\n",
              "      <td>False</td>\n",
              "      <td>True</td>\n",
              "    </tr>\n",
              "    <tr>\n",
              "      <th>1337</th>\n",
              "      <td>61</td>\n",
              "      <td>29.070</td>\n",
              "      <td>0</td>\n",
              "      <td>29141.36030</td>\n",
              "      <td>False</td>\n",
              "      <td>True</td>\n",
              "      <td>True</td>\n",
              "      <td>False</td>\n",
              "      <td>False</td>\n",
              "    </tr>\n",
              "  </tbody>\n",
              "</table>\n",
              "<p>1338 rows × 9 columns</p>\n",
              "</div>\n",
              "    <div class=\"colab-df-buttons\">\n",
              "\n",
              "  <div class=\"colab-df-container\">\n",
              "    <button class=\"colab-df-convert\" onclick=\"convertToInteractive('df-0cead4b1-3adf-4a12-b888-e75c530b4506')\"\n",
              "            title=\"Convert this dataframe to an interactive table.\"\n",
              "            style=\"display:none;\">\n",
              "\n",
              "  <svg xmlns=\"http://www.w3.org/2000/svg\" height=\"24px\" viewBox=\"0 -960 960 960\">\n",
              "    <path d=\"M120-120v-720h720v720H120Zm60-500h600v-160H180v160Zm220 220h160v-160H400v160Zm0 220h160v-160H400v160ZM180-400h160v-160H180v160Zm440 0h160v-160H620v160ZM180-180h160v-160H180v160Zm440 0h160v-160H620v160Z\"/>\n",
              "  </svg>\n",
              "    </button>\n",
              "\n",
              "  <style>\n",
              "    .colab-df-container {\n",
              "      display:flex;\n",
              "      gap: 12px;\n",
              "    }\n",
              "\n",
              "    .colab-df-convert {\n",
              "      background-color: #E8F0FE;\n",
              "      border: none;\n",
              "      border-radius: 50%;\n",
              "      cursor: pointer;\n",
              "      display: none;\n",
              "      fill: #1967D2;\n",
              "      height: 32px;\n",
              "      padding: 0 0 0 0;\n",
              "      width: 32px;\n",
              "    }\n",
              "\n",
              "    .colab-df-convert:hover {\n",
              "      background-color: #E2EBFA;\n",
              "      box-shadow: 0px 1px 2px rgba(60, 64, 67, 0.3), 0px 1px 3px 1px rgba(60, 64, 67, 0.15);\n",
              "      fill: #174EA6;\n",
              "    }\n",
              "\n",
              "    .colab-df-buttons div {\n",
              "      margin-bottom: 4px;\n",
              "    }\n",
              "\n",
              "    [theme=dark] .colab-df-convert {\n",
              "      background-color: #3B4455;\n",
              "      fill: #D2E3FC;\n",
              "    }\n",
              "\n",
              "    [theme=dark] .colab-df-convert:hover {\n",
              "      background-color: #434B5C;\n",
              "      box-shadow: 0px 1px 3px 1px rgba(0, 0, 0, 0.15);\n",
              "      filter: drop-shadow(0px 1px 2px rgba(0, 0, 0, 0.3));\n",
              "      fill: #FFFFFF;\n",
              "    }\n",
              "  </style>\n",
              "\n",
              "    <script>\n",
              "      const buttonEl =\n",
              "        document.querySelector('#df-0cead4b1-3adf-4a12-b888-e75c530b4506 button.colab-df-convert');\n",
              "      buttonEl.style.display =\n",
              "        google.colab.kernel.accessAllowed ? 'block' : 'none';\n",
              "\n",
              "      async function convertToInteractive(key) {\n",
              "        const element = document.querySelector('#df-0cead4b1-3adf-4a12-b888-e75c530b4506');\n",
              "        const dataTable =\n",
              "          await google.colab.kernel.invokeFunction('convertToInteractive',\n",
              "                                                    [key], {});\n",
              "        if (!dataTable) return;\n",
              "\n",
              "        const docLinkHtml = 'Like what you see? Visit the ' +\n",
              "          '<a target=\"_blank\" href=https://colab.research.google.com/notebooks/data_table.ipynb>data table notebook</a>'\n",
              "          + ' to learn more about interactive tables.';\n",
              "        element.innerHTML = '';\n",
              "        dataTable['output_type'] = 'display_data';\n",
              "        await google.colab.output.renderOutput(dataTable, element);\n",
              "        const docLink = document.createElement('div');\n",
              "        docLink.innerHTML = docLinkHtml;\n",
              "        element.appendChild(docLink);\n",
              "      }\n",
              "    </script>\n",
              "  </div>\n",
              "\n",
              "\n",
              "<div id=\"df-4dcb2af8-5947-4681-aaf9-36877589c688\">\n",
              "  <button class=\"colab-df-quickchart\" onclick=\"quickchart('df-4dcb2af8-5947-4681-aaf9-36877589c688')\"\n",
              "            title=\"Suggest charts\"\n",
              "            style=\"display:none;\">\n",
              "\n",
              "<svg xmlns=\"http://www.w3.org/2000/svg\" height=\"24px\"viewBox=\"0 0 24 24\"\n",
              "     width=\"24px\">\n",
              "    <g>\n",
              "        <path d=\"M19 3H5c-1.1 0-2 .9-2 2v14c0 1.1.9 2 2 2h14c1.1 0 2-.9 2-2V5c0-1.1-.9-2-2-2zM9 17H7v-7h2v7zm4 0h-2V7h2v10zm4 0h-2v-4h2v4z\"/>\n",
              "    </g>\n",
              "</svg>\n",
              "  </button>\n",
              "\n",
              "<style>\n",
              "  .colab-df-quickchart {\n",
              "      --bg-color: #E8F0FE;\n",
              "      --fill-color: #1967D2;\n",
              "      --hover-bg-color: #E2EBFA;\n",
              "      --hover-fill-color: #174EA6;\n",
              "      --disabled-fill-color: #AAA;\n",
              "      --disabled-bg-color: #DDD;\n",
              "  }\n",
              "\n",
              "  [theme=dark] .colab-df-quickchart {\n",
              "      --bg-color: #3B4455;\n",
              "      --fill-color: #D2E3FC;\n",
              "      --hover-bg-color: #434B5C;\n",
              "      --hover-fill-color: #FFFFFF;\n",
              "      --disabled-bg-color: #3B4455;\n",
              "      --disabled-fill-color: #666;\n",
              "  }\n",
              "\n",
              "  .colab-df-quickchart {\n",
              "    background-color: var(--bg-color);\n",
              "    border: none;\n",
              "    border-radius: 50%;\n",
              "    cursor: pointer;\n",
              "    display: none;\n",
              "    fill: var(--fill-color);\n",
              "    height: 32px;\n",
              "    padding: 0;\n",
              "    width: 32px;\n",
              "  }\n",
              "\n",
              "  .colab-df-quickchart:hover {\n",
              "    background-color: var(--hover-bg-color);\n",
              "    box-shadow: 0 1px 2px rgba(60, 64, 67, 0.3), 0 1px 3px 1px rgba(60, 64, 67, 0.15);\n",
              "    fill: var(--button-hover-fill-color);\n",
              "  }\n",
              "\n",
              "  .colab-df-quickchart-complete:disabled,\n",
              "  .colab-df-quickchart-complete:disabled:hover {\n",
              "    background-color: var(--disabled-bg-color);\n",
              "    fill: var(--disabled-fill-color);\n",
              "    box-shadow: none;\n",
              "  }\n",
              "\n",
              "  .colab-df-spinner {\n",
              "    border: 2px solid var(--fill-color);\n",
              "    border-color: transparent;\n",
              "    border-bottom-color: var(--fill-color);\n",
              "    animation:\n",
              "      spin 1s steps(1) infinite;\n",
              "  }\n",
              "\n",
              "  @keyframes spin {\n",
              "    0% {\n",
              "      border-color: transparent;\n",
              "      border-bottom-color: var(--fill-color);\n",
              "      border-left-color: var(--fill-color);\n",
              "    }\n",
              "    20% {\n",
              "      border-color: transparent;\n",
              "      border-left-color: var(--fill-color);\n",
              "      border-top-color: var(--fill-color);\n",
              "    }\n",
              "    30% {\n",
              "      border-color: transparent;\n",
              "      border-left-color: var(--fill-color);\n",
              "      border-top-color: var(--fill-color);\n",
              "      border-right-color: var(--fill-color);\n",
              "    }\n",
              "    40% {\n",
              "      border-color: transparent;\n",
              "      border-right-color: var(--fill-color);\n",
              "      border-top-color: var(--fill-color);\n",
              "    }\n",
              "    60% {\n",
              "      border-color: transparent;\n",
              "      border-right-color: var(--fill-color);\n",
              "    }\n",
              "    80% {\n",
              "      border-color: transparent;\n",
              "      border-right-color: var(--fill-color);\n",
              "      border-bottom-color: var(--fill-color);\n",
              "    }\n",
              "    90% {\n",
              "      border-color: transparent;\n",
              "      border-bottom-color: var(--fill-color);\n",
              "    }\n",
              "  }\n",
              "</style>\n",
              "\n",
              "  <script>\n",
              "    async function quickchart(key) {\n",
              "      const quickchartButtonEl =\n",
              "        document.querySelector('#' + key + ' button');\n",
              "      quickchartButtonEl.disabled = true;  // To prevent multiple clicks.\n",
              "      quickchartButtonEl.classList.add('colab-df-spinner');\n",
              "      try {\n",
              "        const charts = await google.colab.kernel.invokeFunction(\n",
              "            'suggestCharts', [key], {});\n",
              "      } catch (error) {\n",
              "        console.error('Error during call to suggestCharts:', error);\n",
              "      }\n",
              "      quickchartButtonEl.classList.remove('colab-df-spinner');\n",
              "      quickchartButtonEl.classList.add('colab-df-quickchart-complete');\n",
              "    }\n",
              "    (() => {\n",
              "      let quickchartButtonEl =\n",
              "        document.querySelector('#df-4dcb2af8-5947-4681-aaf9-36877589c688 button');\n",
              "      quickchartButtonEl.style.display =\n",
              "        google.colab.kernel.accessAllowed ? 'block' : 'none';\n",
              "    })();\n",
              "  </script>\n",
              "</div>\n",
              "    </div>\n",
              "  </div>\n"
            ],
            "application/vnd.google.colaboratory.intrinsic+json": {
              "type": "dataframe",
              "variable_name": "df",
              "summary": "{\n  \"name\": \"df\",\n  \"rows\": 1338,\n  \"fields\": [\n    {\n      \"column\": \"age\",\n      \"properties\": {\n        \"dtype\": \"number\",\n        \"std\": 14,\n        \"min\": 18,\n        \"max\": 64,\n        \"num_unique_values\": 47,\n        \"samples\": [\n          21,\n          45,\n          36\n        ],\n        \"semantic_type\": \"\",\n        \"description\": \"\"\n      }\n    },\n    {\n      \"column\": \"bmi\",\n      \"properties\": {\n        \"dtype\": \"number\",\n        \"std\": 6.098186911679017,\n        \"min\": 15.96,\n        \"max\": 53.13,\n        \"num_unique_values\": 548,\n        \"samples\": [\n          23.18,\n          26.885,\n          29.26\n        ],\n        \"semantic_type\": \"\",\n        \"description\": \"\"\n      }\n    },\n    {\n      \"column\": \"children\",\n      \"properties\": {\n        \"dtype\": \"number\",\n        \"std\": 1,\n        \"min\": 0,\n        \"max\": 5,\n        \"num_unique_values\": 6,\n        \"samples\": [\n          0,\n          1,\n          4\n        ],\n        \"semantic_type\": \"\",\n        \"description\": \"\"\n      }\n    },\n    {\n      \"column\": \"charges\",\n      \"properties\": {\n        \"dtype\": \"number\",\n        \"std\": 12110.011236693994,\n        \"min\": 1121.8739,\n        \"max\": 63770.42801,\n        \"num_unique_values\": 1337,\n        \"samples\": [\n          8688.85885,\n          5708.867,\n          11436.73815\n        ],\n        \"semantic_type\": \"\",\n        \"description\": \"\"\n      }\n    },\n    {\n      \"column\": \"sex_male\",\n      \"properties\": {\n        \"dtype\": \"boolean\",\n        \"num_unique_values\": 2,\n        \"samples\": [\n          true,\n          false\n        ],\n        \"semantic_type\": \"\",\n        \"description\": \"\"\n      }\n    },\n    {\n      \"column\": \"smoker_yes\",\n      \"properties\": {\n        \"dtype\": \"boolean\",\n        \"num_unique_values\": 2,\n        \"samples\": [\n          false,\n          true\n        ],\n        \"semantic_type\": \"\",\n        \"description\": \"\"\n      }\n    },\n    {\n      \"column\": \"region_northwest\",\n      \"properties\": {\n        \"dtype\": \"boolean\",\n        \"num_unique_values\": 2,\n        \"samples\": [\n          true,\n          false\n        ],\n        \"semantic_type\": \"\",\n        \"description\": \"\"\n      }\n    },\n    {\n      \"column\": \"region_southeast\",\n      \"properties\": {\n        \"dtype\": \"boolean\",\n        \"num_unique_values\": 2,\n        \"samples\": [\n          true,\n          false\n        ],\n        \"semantic_type\": \"\",\n        \"description\": \"\"\n      }\n    },\n    {\n      \"column\": \"region_southwest\",\n      \"properties\": {\n        \"dtype\": \"boolean\",\n        \"num_unique_values\": 2,\n        \"samples\": [\n          false,\n          true\n        ],\n        \"semantic_type\": \"\",\n        \"description\": \"\"\n      }\n    }\n  ]\n}"
            }
          },
          "metadata": {},
          "execution_count": 50
        }
      ]
    },
    {
      "cell_type": "code",
      "source": [
        "X[0]"
      ],
      "metadata": {
        "colab": {
          "base_uri": "https://localhost:8080/"
        },
        "id": "nBzhRYJq2MyE",
        "outputId": "645c8f1d-b3b8-4ee7-b399-d0a211aa9f1d"
      },
      "execution_count": 17,
      "outputs": [
        {
          "output_type": "execute_result",
          "data": {
            "text/plain": [
              "array([19, 27.9, 0, False, True, False, False, True], dtype=object)"
            ]
          },
          "metadata": {},
          "execution_count": 17
        }
      ]
    },
    {
      "cell_type": "code",
      "source": [
        "y"
      ],
      "metadata": {
        "colab": {
          "base_uri": "https://localhost:8080/"
        },
        "id": "7MGqddW-2b50",
        "outputId": "90808c95-edb9-453c-caf6-b93ee76708fd"
      },
      "execution_count": 18,
      "outputs": [
        {
          "output_type": "execute_result",
          "data": {
            "text/plain": [
              "array([16884.924 ,  1725.5523,  4449.462 , ...,  1629.8335,  2007.945 ,\n",
              "       29141.3603])"
            ]
          },
          "metadata": {},
          "execution_count": 18
        }
      ]
    },
    {
      "cell_type": "markdown",
      "source": [
        "    2. Завантаження та підготовка даних\n",
        "        ◦ Завантажте набір даних згідно з інструкціями для вашого варіанту\n",
        "        ◦ Здійсніть попередній аналіз даних (розмір вибірки, кількість ознак, типи даних)\n",
        "        ◦ Обробіть пропущені значення та проведіть нормалізацію даних"
      ],
      "metadata": {
        "id": "J1hKVGM51IFm"
      }
    },
    {
      "cell_type": "code",
      "source": [
        "rows = X.shape[0]\n",
        "cols = X.shape[1]\n",
        "\n",
        "for i in range(rows):\n",
        "  for j in range(3, cols):\n",
        "    if X[i][j] == True:\n",
        "      X[i][j] = 1\n",
        "    else:\n",
        "      X[i][j] = 0"
      ],
      "metadata": {
        "id": "UYZGBZTg2ocK"
      },
      "execution_count": 19,
      "outputs": []
    },
    {
      "cell_type": "code",
      "source": [
        "X"
      ],
      "metadata": {
        "colab": {
          "base_uri": "https://localhost:8080/"
        },
        "id": "LX32eMfW30ji",
        "outputId": "a293dd03-b569-4ccb-d69b-2b81977c8593"
      },
      "execution_count": 20,
      "outputs": [
        {
          "output_type": "execute_result",
          "data": {
            "text/plain": [
              "array([[19, 27.9, 0, ..., 0, 0, 1],\n",
              "       [18, 33.77, 1, ..., 0, 1, 0],\n",
              "       [28, 33.0, 3, ..., 0, 1, 0],\n",
              "       ...,\n",
              "       [18, 36.85, 0, ..., 0, 1, 0],\n",
              "       [21, 25.8, 0, ..., 0, 0, 1],\n",
              "       [61, 29.07, 0, ..., 1, 0, 0]], dtype=object)"
            ]
          },
          "metadata": {},
          "execution_count": 20
        }
      ]
    },
    {
      "cell_type": "code",
      "source": [
        "import numpy as np\n",
        "from sklearn.preprocessing import StandardScaler\n",
        "from sklearn.model_selection import train_test_split"
      ],
      "metadata": {
        "id": "efYEmsvu1F3n"
      },
      "execution_count": 29,
      "outputs": []
    },
    {
      "cell_type": "markdown",
      "source": [
        "    3. Розділення даних на тренувальну та тестову вибірки\n",
        "        ◦ Використовуйте метод train_test_split для розділення даних\n",
        "        ◦ Рекомендоване співвідношення: 80% для тренування, 20% для тестування"
      ],
      "metadata": {
        "id": "rmLM6kWV1Nej"
      }
    },
    {
      "cell_type": "code",
      "source": [
        "# Розділяємо дані на тренувальний та тестовий набори\n",
        "X_train, X_test, y_train, y_test = train_test_split(X, y, test_size=0.2, random_state=42)\n",
        "\n",
        "# Нормалізація даних\n",
        "scaler = StandardScaler()\n",
        "X_train_norm = scaler.fit_transform(X_train)\n",
        "X_test_norm = scaler.fit_transform(X_test)"
      ],
      "metadata": {
        "id": "iXl3857Uz1Do"
      },
      "execution_count": 30,
      "outputs": []
    },
    {
      "cell_type": "markdown",
      "source": [
        "    4. Реалізація функцій лінійної регресії\n",
        "        ◦ Реалізуйте функцію обчислення вихідних значень моделі compute_model_output\n",
        "        ◦ Реалізуйте функцію обчислення вартості compute_cost\n",
        "        ◦ Реалізуйте функцію обчислення градієнту compute_gradient\n",
        "        ◦ Реалізуйте функцію градієнтного спуску gradient_descent"
      ],
      "metadata": {
        "id": "Z_l3UW7e1Rk2"
      }
    },
    {
      "cell_type": "code",
      "source": [
        "# 1. Функція обчислення моделі\n",
        "def compute_model_output(X, w, b):\n",
        "    \"\"\"\n",
        "    Обчислює прогноз лінійної моделі\n",
        "\n",
        "    Аргументи:\n",
        "      X (ndarray (m,n)): Дані, m прикладів з n ознаками\n",
        "      w (ndarray (n,)): параметри моделі\n",
        "      b (скаляр): параметр моделі\n",
        "\n",
        "    Повертає:\n",
        "      f_wb (ndarray (m,)): прогнозовані значення\n",
        "    \"\"\"\n",
        "    m = X.shape[0]\n",
        "    f_wb = np.zeros(m)\n",
        "\n",
        "    for i in range(m):\n",
        "        f_wb[i] = np.dot(X[i], w) + b\n",
        "\n",
        "    return f_wb\n",
        "\n",
        "# 2. Функція обчислення вартості\n",
        "def compute_cost(X, y, w, b):\n",
        "    \"\"\"\n",
        "    Обчислює функцію вартості для лінійної регресії\n",
        "\n",
        "    Аргументи:\n",
        "      X (ndarray (m,n)): Дані, m прикладів з n ознаками\n",
        "      y (ndarray (m,)): цільові значення\n",
        "      w (ndarray (n,)): параметри моделі\n",
        "      b (скаляр): параметр моделі\n",
        "\n",
        "    Повертає:\n",
        "      total_cost (float): вартість використання w,b як параметрів для лінійної регресії\n",
        "    \"\"\"\n",
        "    m = X.shape[0]\n",
        "\n",
        "    cost_sum = 0\n",
        "    for i in range(m):\n",
        "        f_wb = np.dot(X[i], w) + b\n",
        "        cost = (f_wb - y[i]) ** 2\n",
        "        cost_sum = cost_sum + cost\n",
        "    total_cost = (1 / (2 * m)) * cost_sum\n",
        "\n",
        "    return total_cost\n",
        "\n",
        "# 3. Функція обчислення градієнта\n",
        "def compute_gradient(X, y, w, b):\n",
        "    \"\"\"\n",
        "    Обчислює градієнт для лінійної регресії\n",
        "\n",
        "    Аргументи:\n",
        "      X (ndarray (m,n)): Дані, m прикладів з n ознаками\n",
        "      y (ndarray (m,)): цільові значення\n",
        "      w (ndarray (n,)): параметри моделі\n",
        "      b (скаляр): параметр моделі\n",
        "\n",
        "    Повертає:\n",
        "      dj_dw (ndarray (n,)): Градієнт функції вартості відносно параметрів w\n",
        "      dj_db (скаляр): Градієнт функції вартості відносно параметра b\n",
        "    \"\"\"\n",
        "    m, n = X.shape\n",
        "    dj_dw = np.zeros((n,))\n",
        "    dj_db = 0\n",
        "\n",
        "    for i in range(m):\n",
        "        err = (np.dot(X[i], w) + b) - y[i]\n",
        "        for j in range(n):\n",
        "            dj_dw[j] = dj_dw[j] + err * X[i, j]\n",
        "        dj_db = dj_db + err\n",
        "\n",
        "    dj_dw = dj_dw / m\n",
        "    dj_db = dj_db / m\n",
        "\n",
        "    return dj_dw, dj_db\n",
        "\n",
        "# 4. Функція градієнтного спуску\n",
        "def gradient_descent(X, y, w_in, b_in, alpha, num_iters):\n",
        "    \"\"\"\n",
        "    Виконує градієнтний спуск для пошуку w,b\n",
        "\n",
        "    Аргументи:\n",
        "      X (ndarray (m,n)): Дані, m прикладів з n ознаками\n",
        "      y (ndarray (m,)): цільові значення\n",
        "      w_in (ndarray (n,)): початкові значення параметрів моделі\n",
        "      b_in (скаляр): початкове значення параметра моделі\n",
        "      alpha (float): швидкість навчання\n",
        "      num_iters (int): кількість ітерацій градієнтного спуску\n",
        "\n",
        "    Повертає:\n",
        "      w (ndarray (n,)): Оновлені значення параметрів w після градієнтного спуску\n",
        "      b (скаляр): Оновлене значення параметра b після градієнтного спуску\n",
        "      J_history (List): Історія значень функції вартості\n",
        "      p_history (list): Історія параметрів [w,b]\n",
        "    \"\"\"\n",
        "\n",
        "    # Масив для збереження значень вартості J та параметрів w, b\n",
        "    J_history = []\n",
        "    p_history = []\n",
        "    w = w_in.copy()  # уникаємо зміни глобальних значень параметрів\n",
        "    b = b_in\n",
        "\n",
        "    for i in range(num_iters):\n",
        "        # Обчислення градієнту\n",
        "        dj_dw, dj_db = compute_gradient(X, y, w, b)\n",
        "\n",
        "        # Оновлення параметрів\n",
        "        w = w - alpha * dj_dw\n",
        "        b = b - alpha * dj_db\n",
        "\n",
        "        # Збереження історії\n",
        "        J_history.append(compute_cost(X, y, w, b))\n",
        "        p_history.append([w.copy(), b])\n",
        "\n",
        "        # Вивід проміжних результатів\n",
        "        if i % (num_iters // 10) == 0 or i == num_iters - 1:\n",
        "            print(f\"Ітерація {i:4}: Вартість {J_history[-1]:0.2e}, \",\n",
        "                  f\"w[0]: {w[0]: 0.3e}, b: {b: 0.5e}\")\n",
        "\n",
        "    return w, b, J_history, p_history\n"
      ],
      "metadata": {
        "id": "lPJja4lg0SxO"
      },
      "execution_count": 32,
      "outputs": []
    },
    {
      "cell_type": "markdown",
      "source": [
        "    5. Навчання моделі\n",
        "        ◦ Ініціалізуйте початкові значення параметрів\n",
        "        ◦ Виконайте алгоритм градієнтного спуску для знаходження оптимальних параметрів\n",
        "        ◦ Відстежуйте зміну функції вартості під час навчання"
      ],
      "metadata": {
        "id": "Lav7t6cI1VYZ"
      }
    },
    {
      "cell_type": "code",
      "source": [
        "# Параметри для градієнтного спуску\n",
        "w_init = np.zeros(X_train.shape[1])  # параметр w для кожної ознаки\n",
        "b_init = 0  # початкове значення b\n",
        "alpha = 0.01  # швидкість навчання\n",
        "iterations = 1000  # кількість ітерацій\n",
        "\n",
        "# Розмір навчальної вибірки\n",
        "m = X_train.shape[0]\n",
        "n = X_train.shape[1]  # кількість ознак\n",
        "\n",
        "print(f\"Розмір тренувальних даних: {X_train.shape}\")\n",
        "print(f\"Кількість прикладів (m): {m}\")\n",
        "print(f\"Кількість ознак (n): {n}\")\n"
      ],
      "metadata": {
        "colab": {
          "base_uri": "https://localhost:8080/"
        },
        "id": "e4AqGiql1V4u",
        "outputId": "2d405903-06ad-4296-b922-0420507a95ad"
      },
      "execution_count": 37,
      "outputs": [
        {
          "output_type": "stream",
          "name": "stdout",
          "text": [
            "Розмір тренувальних даних: (1070, 8)\n",
            "Кількість прикладів (m): 1070\n",
            "Кількість ознак (n): 8\n"
          ]
        }
      ]
    },
    {
      "cell_type": "code",
      "source": [
        "# 5. Запуск градієнтного спуску на нормалізованих даних\n",
        "w_final, b_final, J_hist, p_hist = gradient_descent(X_train_norm, y_train, w_init, b_init, alpha, iterations)\n",
        "print(f\"Знайдені параметри (w,b): w={w_final}, b={b_final:8.4f}\")"
      ],
      "metadata": {
        "colab": {
          "base_uri": "https://localhost:8080/"
        },
        "id": "IRgdNWOV8cE3",
        "outputId": "705d45b1-7b90-4b21-b362-f1c15a804349"
      },
      "execution_count": 38,
      "outputs": [
        {
          "output_type": "stream",
          "name": "stdout",
          "text": [
            "Ітерація    0: Вартість 1.58e+08,  w[0]:  3.385e+01, b:  1.33461e+02\n",
            "Ітерація  100: Вартість 3.76e+07,  w[0]:  2.212e+03, b:  8.50984e+03\n",
            "Ітерація  200: Вартість 2.13e+07,  w[0]:  3.063e+03, b:  1.15759e+04\n",
            "Ітерація  300: Вартість 1.90e+07,  w[0]:  3.398e+03, b:  1.26981e+04\n",
            "Ітерація  400: Вартість 1.87e+07,  w[0]:  3.530e+03, b:  1.31089e+04\n",
            "Ітерація  500: Вартість 1.86e+07,  w[0]:  3.582e+03, b:  1.32593e+04\n",
            "Ітерація  600: Вартість 1.86e+07,  w[0]:  3.602e+03, b:  1.33143e+04\n",
            "Ітерація  700: Вартість 1.86e+07,  w[0]:  3.610e+03, b:  1.33345e+04\n",
            "Ітерація  800: Вартість 1.86e+07,  w[0]:  3.613e+03, b:  1.33418e+04\n",
            "Ітерація  900: Вартість 1.86e+07,  w[0]:  3.614e+03, b:  1.33445e+04\n",
            "Ітерація  999: Вартість 1.86e+07,  w[0]:  3.615e+03, b:  1.33455e+04\n",
            "Знайдені параметри (w,b): w=[ 3.61488185e+03  2.03241312e+03  5.16980755e+02 -8.70529765e+00\n",
            "  9.55789194e+03 -1.43936208e+02 -2.74066666e+02 -3.34265195e+02], b=13345.5136\n"
          ]
        }
      ]
    },
    {
      "cell_type": "markdown",
      "source": [
        "    6. Оцінка якості моделі\n",
        "        ◦ Обчисліть метрики якості моделі (R², MSE, MAE) на тренувальній вибірці\n",
        "        ◦ Проведіть оцінку моделі на тестовій вибірці\n",
        "        ◦ Проаналізуйте важливість ознак (feature importance)"
      ],
      "metadata": {
        "id": "M18PYaky1Wcm"
      }
    },
    {
      "cell_type": "code",
      "source": [
        "# 7. Використання моделі для прогнозування\n",
        "def predict(X, w, b):\n",
        "    \"\"\"\n",
        "    Прогнозування за допомогою лінійної моделі\n",
        "\n",
        "    Аргументи:\n",
        "      X (ndarray (m,n)): Дані, m прикладів з n ознаками\n",
        "      w (ndarray (n,)): параметри моделі\n",
        "      b (скаляр): параметр моделі\n",
        "\n",
        "    Повертає:\n",
        "      y_pred (ndarray (m,)): прогнозовані значення\n",
        "    \"\"\"\n",
        "    return np.dot(X, w) + b\n",
        "\n"
      ],
      "metadata": {
        "id": "31JKNH521YcD"
      },
      "execution_count": 42,
      "outputs": []
    },
    {
      "cell_type": "code",
      "source": [
        "# Обчислення прогнозів для тренувальних даних\n",
        "y_pred_train = predict(X_train_norm, w_final, b_final)\n"
      ],
      "metadata": {
        "id": "-8m_L75F9nV4"
      },
      "execution_count": 43,
      "outputs": []
    },
    {
      "cell_type": "code",
      "source": [
        "# Додатковий аналіз - коефіцієнт детермінації R²\n",
        "def r_squared(y_true, y_pred):\n",
        "    \"\"\"\n",
        "    Обчислює коефіцієнт детермінації R²\n",
        "\n",
        "    Аргументи:\n",
        "      y_true (ndarray): фактичні значення\n",
        "      y_pred (ndarray): прогнозовані значення\n",
        "\n",
        "    Повертає:\n",
        "      r2 (скаляр): коефіцієнт детермінації\n",
        "    \"\"\"\n",
        "    ss_total = np.sum((y_true - np.mean(y_true))**2)\n",
        "    ss_residual = np.sum((y_true - y_pred)**2)\n",
        "    r2 = 1 - (ss_residual / ss_total)\n",
        "    return r2\n"
      ],
      "metadata": {
        "id": "JQuaVhk-9o1u"
      },
      "execution_count": 44,
      "outputs": []
    },
    {
      "cell_type": "code",
      "source": [
        "# Обчислення R²\n",
        "r2 = r_squared(y_train, y_pred_train)\n",
        "print(f\"\\nКоефіцієнт детермінації (R²): {r2:.4f}\")\n"
      ],
      "metadata": {
        "colab": {
          "base_uri": "https://localhost:8080/"
        },
        "id": "LxiE3WS99s_A",
        "outputId": "d9654417-5970-4c35-ebe9-a404856952b5"
      },
      "execution_count": 45,
      "outputs": [
        {
          "output_type": "stream",
          "name": "stdout",
          "text": [
            "\n",
            "Коефіцієнт детермінації (R²): 0.7417\n"
          ]
        }
      ]
    },
    {
      "cell_type": "code",
      "source": [
        "# Додатковий аналіз - середньоквадратична помилка\n",
        "mse = np.mean((y_train - y_pred_train)**2)\n",
        "print(f\"Середньоквадратична помилка (MSE): {mse:.4f}\")\n",
        "\n",
        "# Додатковий аналіз - середня абсолютна помилка\n",
        "mae = np.mean(np.abs(y_train - y_pred_train))\n",
        "print(f\"Середня абсолютна помилка (MAE): {mae:.4f}\")\n",
        "\n"
      ],
      "metadata": {
        "colab": {
          "base_uri": "https://localhost:8080/"
        },
        "id": "2yDpDqN794FD",
        "outputId": "0784644f-9d9e-48cf-da8c-cb19732080c5"
      },
      "execution_count": 46,
      "outputs": [
        {
          "output_type": "stream",
          "name": "stdout",
          "text": [
            "Середньоквадратична помилка (MSE): 37277905.9195\n",
            "Середня абсолютна помилка (MAE): 4207.7957\n"
          ]
        }
      ]
    },
    {
      "cell_type": "markdown",
      "source": [
        "    7. Аналіз та візуалізація результатів\n",
        "        ◦ Візуалізуйте дані та отриману модель\n",
        "        ◦ Проаналізуйте процес навчання (зміну функції вартості)\n",
        "        ◦ Створіть графік прогнозів моделі порівняно зі справжніми значеннями"
      ],
      "metadata": {
        "id": "Yzl4XF8z1ZzY"
      }
    },
    {
      "cell_type": "code",
      "source": [
        "import matplotlib.pyplot as plt\n",
        "\n",
        "# 6. Візуалізація результатів\n",
        "# 6.1 Візуалізація зміни функції вартості\n",
        "plt.figure(figsize=(12, 5))\n",
        "plt.subplot(1, 2, 1)\n",
        "plt.plot(J_hist[:100])\n",
        "plt.title('Вартість vs. ітерації (початок)')\n",
        "plt.xlabel('Ітерації')\n",
        "plt.ylabel('Вартість')\n",
        "\n",
        "plt.subplot(1, 2, 2)\n",
        "plt.plot(range(100, len(J_hist)), J_hist[100:])\n",
        "plt.title('Вартість vs. ітерації (кінець)')\n",
        "plt.xlabel('Ітерації')\n",
        "plt.ylabel('Вартість')\n",
        "plt.grid(True)\n",
        "plt.tight_layout()\n",
        "plt.show()"
      ],
      "metadata": {
        "colab": {
          "base_uri": "https://localhost:8080/",
          "height": 507
        },
        "id": "xwKYLBSR1ceA",
        "outputId": "b22806e1-21ac-4d56-cb86-4bc5f8a17c3c"
      },
      "execution_count": 41,
      "outputs": [
        {
          "output_type": "display_data",
          "data": {
            "text/plain": [
              "<Figure size 1200x500 with 2 Axes>"
            ],
            "image/png": "[encoded data removed]"
          },
          "metadata": {}
        }
      ]
    },
    {
      "cell_type": "code",
      "source": [
        "# 8. Візуалізація прогнозів vs. справжніх значень\n",
        "plt.figure(figsize=(10, 6))\n",
        "plt.scatter(y_train, y_pred_train, alpha=0.5)\n",
        "plt.plot([y_train.min(), y_train.max()], [y_train.min(), y_train.max()], 'k--', lw=2)\n",
        "plt.xlabel('Справжні значення')\n",
        "plt.ylabel('Прогнозовані значення')\n",
        "plt.title('Прогнозовані vs. справжні значення')\n",
        "plt.grid(True)\n",
        "plt.show()"
      ],
      "metadata": {
        "colab": {
          "base_uri": "https://localhost:8080/",
          "height": 564
        },
        "id": "UN_rQHMV9-NJ",
        "outputId": "762b2568-5fc6-4647-eadb-2463684a5cef"
      },
      "execution_count": 47,
      "outputs": [
        {
          "output_type": "display_data",
          "data": {
            "text/plain": [
              "<Figure size 1000x600 with 1 Axes>"
            ],
            "image/png": "[encoded data removed]"
          },
          "metadata": {}
        }
      ]
    },
    {
      "cell_type": "code",
      "source": [
        "w_final"
      ],
      "metadata": {
        "colab": {
          "base_uri": "https://localhost:8080/"
        },
        "id": "vmd_kKDQ_AFq",
        "outputId": "f559bed9-2a04-4f5d-be74-d9532c9168a9"
      },
      "execution_count": 49,
      "outputs": [
        {
          "output_type": "execute_result",
          "data": {
            "text/plain": [
              "array([ 3.61488185e+03,  2.03241312e+03,  5.16980755e+02, -8.70529765e+00,\n",
              "        9.55789194e+03, -1.43936208e+02, -2.74066666e+02, -3.34265195e+02])"
            ]
          },
          "metadata": {},
          "execution_count": 49
        }
      ]
    },
    {
      "cell_type": "code",
      "source": [
        "df"
      ],
      "metadata": {
        "colab": {
          "base_uri": "https://localhost:8080/",
          "height": 423
        },
        "id": "NoOc99xc_fv-",
        "outputId": "3976cf31-19bd-489b-c770-cb08c65c5612"
      },
      "execution_count": 51,
      "outputs": [
        {
          "output_type": "execute_result",
          "data": {
            "text/plain": [
              "      age     bmi  children      charges  sex_male  smoker_yes  \\\n",
              "0      19  27.900         0  16884.92400     False        True   \n",
              "1      18  33.770         1   1725.55230      True       False   \n",
              "2      28  33.000         3   4449.46200      True       False   \n",
              "3      33  22.705         0  21984.47061      True       False   \n",
              "4      32  28.880         0   3866.85520      True       False   \n",
              "...   ...     ...       ...          ...       ...         ...   \n",
              "1333   50  30.970         3  10600.54830      True       False   \n",
              "1334   18  31.920         0   2205.98080     False       False   \n",
              "1335   18  36.850         0   1629.83350     False       False   \n",
              "1336   21  25.800         0   2007.94500     False       False   \n",
              "1337   61  29.070         0  29141.36030     False        True   \n",
              "\n",
              "      region_northwest  region_southeast  region_southwest  \n",
              "0                False             False              True  \n",
              "1                False              True             False  \n",
              "2                False              True             False  \n",
              "3                 True             False             False  \n",
              "4                 True             False             False  \n",
              "...                ...               ...               ...  \n",
              "1333              True             False             False  \n",
              "1334             False             False             False  \n",
              "1335             False              True             False  \n",
              "1336             False             False              True  \n",
              "1337              True             False             False  \n",
              "\n",
              "[1338 rows x 9 columns]"
            ],
            "text/html": [
              "\n",
              "  <div id=\"df-956924a6-7e75-48a9-b105-7e0179d1a333\" class=\"colab-df-container\">\n",
              "    <div>\n",
              "<style scoped>\n",
              "    .dataframe tbody tr th:only-of-type {\n",
              "        vertical-align: middle;\n",
              "    }\n",
              "\n",
              "    .dataframe tbody tr th {\n",
              "        vertical-align: top;\n",
              "    }\n",
              "\n",
              "    .dataframe thead th {\n",
              "        text-align: right;\n",
              "    }\n",
              "</style>\n",
              "<table border=\"1\" class=\"dataframe\">\n",
              "  <thead>\n",
              "    <tr style=\"text-align: right;\">\n",
              "      <th></th>\n",
              "      <th>age</th>\n",
              "      <th>bmi</th>\n",
              "      <th>children</th>\n",
              "      <th>charges</th>\n",
              "      <th>sex_male</th>\n",
              "      <th>smoker_yes</th>\n",
              "      <th>region_northwest</th>\n",
              "      <th>region_southeast</th>\n",
              "      <th>region_southwest</th>\n",
              "    </tr>\n",
              "  </thead>\n",
              "  <tbody>\n",
              "    <tr>\n",
              "      <th>0</th>\n",
              "      <td>19</td>\n",
              "      <td>27.900</td>\n",
              "      <td>0</td>\n",
              "      <td>16884.92400</td>\n",
              "      <td>False</td>\n",
              "      <td>True</td>\n",
              "      <td>False</td>\n",
              "      <td>False</td>\n",
              "      <td>True</td>\n",
              "    </tr>\n",
              "    <tr>\n",
              "      <th>1</th>\n",
              "      <td>18</td>\n",
              "      <td>33.770</td>\n",
              "      <td>1</td>\n",
              "      <td>1725.55230</td>\n",
              "      <td>True</td>\n",
              "      <td>False</td>\n",
              "      <td>False</td>\n",
              "      <td>True</td>\n",
              "      <td>False</td>\n",
              "    </tr>\n",
              "    <tr>\n",
              "      <th>2</th>\n",
              "      <td>28</td>\n",
              "      <td>33.000</td>\n",
              "      <td>3</td>\n",
              "      <td>4449.46200</td>\n",
              "      <td>True</td>\n",
              "      <td>False</td>\n",
              "      <td>False</td>\n",
              "      <td>True</td>\n",
              "      <td>False</td>\n",
              "    </tr>\n",
              "    <tr>\n",
              "      <th>3</th>\n",
              "      <td>33</td>\n",
              "      <td>22.705</td>\n",
              "      <td>0</td>\n",
              "      <td>21984.47061</td>\n",
              "      <td>True</td>\n",
              "      <td>False</td>\n",
              "      <td>True</td>\n",
              "      <td>False</td>\n",
              "      <td>False</td>\n",
              "    </tr>\n",
              "    <tr>\n",
              "      <th>4</th>\n",
              "      <td>32</td>\n",
              "      <td>28.880</td>\n",
              "      <td>0</td>\n",
              "      <td>3866.85520</td>\n",
              "      <td>True</td>\n",
              "      <td>False</td>\n",
              "      <td>True</td>\n",
              "      <td>False</td>\n",
              "      <td>False</td>\n",
              "    </tr>\n",
              "    <tr>\n",
              "      <th>...</th>\n",
              "      <td>...</td>\n",
              "      <td>...</td>\n",
              "      <td>...</td>\n",
              "      <td>...</td>\n",
              "      <td>...</td>\n",
              "      <td>...</td>\n",
              "      <td>...</td>\n",
              "      <td>...</td>\n",
              "      <td>...</td>\n",
              "    </tr>\n",
              "    <tr>\n",
              "      <th>1333</th>\n",
              "      <td>50</td>\n",
              "      <td>30.970</td>\n",
              "      <td>3</td>\n",
              "      <td>10600.54830</td>\n",
              "      <td>True</td>\n",
              "      <td>False</td>\n",
              "      <td>True</td>\n",
              "      <td>False</td>\n",
              "      <td>False</td>\n",
              "    </tr>\n",
              "    <tr>\n",
              "      <th>1334</th>\n",
              "      <td>18</td>\n",
              "      <td>31.920</td>\n",
              "      <td>0</td>\n",
              "      <td>2205.98080</td>\n",
              "      <td>False</td>\n",
              "      <td>False</td>\n",
              "      <td>False</td>\n",
              "      <td>False</td>\n",
              "      <td>False</td>\n",
              "    </tr>\n",
              "    <tr>\n",
              "      <th>1335</th>\n",
              "      <td>18</td>\n",
              "      <td>36.850</td>\n",
              "      <td>0</td>\n",
              "      <td>1629.83350</td>\n",
              "      <td>False</td>\n",
              "      <td>False</td>\n",
              "      <td>False</td>\n",
              "      <td>True</td>\n",
              "      <td>False</td>\n",
              "    </tr>\n",
              "    <tr>\n",
              "      <th>1336</th>\n",
              "      <td>21</td>\n",
              "      <td>25.800</td>\n",
              "      <td>0</td>\n",
              "      <td>2007.94500</td>\n",
              "      <td>False</td>\n",
              "      <td>False</td>\n",
              "      <td>False</td>\n",
              "      <td>False</td>\n",
              "      <td>True</td>\n",
              "    </tr>\n",
              "    <tr>\n",
              "      <th>1337</th>\n",
              "      <td>61</td>\n",
              "      <td>29.070</td>\n",
              "      <td>0</td>\n",
              "      <td>29141.36030</td>\n",
              "      <td>False</td>\n",
              "      <td>True</td>\n",
              "      <td>True</td>\n",
              "      <td>False</td>\n",
              "      <td>False</td>\n",
              "    </tr>\n",
              "  </tbody>\n",
              "</table>\n",
              "<p>1338 rows × 9 columns</p>\n",
              "</div>\n",
              "    <div class=\"colab-df-buttons\">\n",
              "\n",
              "  <div class=\"colab-df-container\">\n",
              "    <button class=\"colab-df-convert\" onclick=\"convertToInteractive('df-956924a6-7e75-48a9-b105-7e0179d1a333')\"\n",
              "            title=\"Convert this dataframe to an interactive table.\"\n",
              "            style=\"display:none;\">\n",
              "\n",
              "  <svg xmlns=\"http://www.w3.org/2000/svg\" height=\"24px\" viewBox=\"0 -960 960 960\">\n",
              "    <path d=\"M120-120v-720h720v720H120Zm60-500h600v-160H180v160Zm220 220h160v-160H400v160Zm0 220h160v-160H400v160ZM180-400h160v-160H180v160Zm440 0h160v-160H620v160ZM180-180h160v-160H180v160Zm440 0h160v-160H620v160Z\"/>\n",
              "  </svg>\n",
              "    </button>\n",
              "\n",
              "  <style>\n",
              "    .colab-df-container {\n",
              "      display:flex;\n",
              "      gap: 12px;\n",
              "    }\n",
              "\n",
              "    .colab-df-convert {\n",
              "      background-color: #E8F0FE;\n",
              "      border: none;\n",
              "      border-radius: 50%;\n",
              "      cursor: pointer;\n",
              "      display: none;\n",
              "      fill: #1967D2;\n",
              "      height: 32px;\n",
              "      padding: 0 0 0 0;\n",
              "      width: 32px;\n",
              "    }\n",
              "\n",
              "    .colab-df-convert:hover {\n",
              "      background-color: #E2EBFA;\n",
              "      box-shadow: 0px 1px 2px rgba(60, 64, 67, 0.3), 0px 1px 3px 1px rgba(60, 64, 67, 0.15);\n",
              "      fill: #174EA6;\n",
              "    }\n",
              "\n",
              "    .colab-df-buttons div {\n",
              "      margin-bottom: 4px;\n",
              "    }\n",
              "\n",
              "    [theme=dark] .colab-df-convert {\n",
              "      background-color: #3B4455;\n",
              "      fill: #D2E3FC;\n",
              "    }\n",
              "\n",
              "    [theme=dark] .colab-df-convert:hover {\n",
              "      background-color: #434B5C;\n",
              "      box-shadow: 0px 1px 3px 1px rgba(0, 0, 0, 0.15);\n",
              "      filter: drop-shadow(0px 1px 2px rgba(0, 0, 0, 0.3));\n",
              "      fill: #FFFFFF;\n",
              "    }\n",
              "  </style>\n",
              "\n",
              "    <script>\n",
              "      const buttonEl =\n",
              "        document.querySelector('#df-956924a6-7e75-48a9-b105-7e0179d1a333 button.colab-df-convert');\n",
              "      buttonEl.style.display =\n",
              "        google.colab.kernel.accessAllowed ? 'block' : 'none';\n",
              "\n",
              "      async function convertToInteractive(key) {\n",
              "        const element = document.querySelector('#df-956924a6-7e75-48a9-b105-7e0179d1a333');\n",
              "        const dataTable =\n",
              "          await google.colab.kernel.invokeFunction('convertToInteractive',\n",
              "                                                    [key], {});\n",
              "        if (!dataTable) return;\n",
              "\n",
              "        const docLinkHtml = 'Like what you see? Visit the ' +\n",
              "          '<a target=\"_blank\" href=https://colab.research.google.com/notebooks/data_table.ipynb>data table notebook</a>'\n",
              "          + ' to learn more about interactive tables.';\n",
              "        element.innerHTML = '';\n",
              "        dataTable['output_type'] = 'display_data';\n",
              "        await google.colab.output.renderOutput(dataTable, element);\n",
              "        const docLink = document.createElement('div');\n",
              "        docLink.innerHTML = docLinkHtml;\n",
              "        element.appendChild(docLink);\n",
              "      }\n",
              "    </script>\n",
              "  </div>\n",
              "\n",
              "\n",
              "<div id=\"df-63f3fbdb-aeeb-4e65-8cb1-de6f9ea6fd3a\">\n",
              "  <button class=\"colab-df-quickchart\" onclick=\"quickchart('df-63f3fbdb-aeeb-4e65-8cb1-de6f9ea6fd3a')\"\n",
              "            title=\"Suggest charts\"\n",
              "            style=\"display:none;\">\n",
              "\n",
              "<svg xmlns=\"http://www.w3.org/2000/svg\" height=\"24px\"viewBox=\"0 0 24 24\"\n",
              "     width=\"24px\">\n",
              "    <g>\n",
              "        <path d=\"M19 3H5c-1.1 0-2 .9-2 2v14c0 1.1.9 2 2 2h14c1.1 0 2-.9 2-2V5c0-1.1-.9-2-2-2zM9 17H7v-7h2v7zm4 0h-2V7h2v10zm4 0h-2v-4h2v4z\"/>\n",
              "    </g>\n",
              "</svg>\n",
              "  </button>\n",
              "\n",
              "<style>\n",
              "  .colab-df-quickchart {\n",
              "      --bg-color: #E8F0FE;\n",
              "      --fill-color: #1967D2;\n",
              "      --hover-bg-color: #E2EBFA;\n",
              "      --hover-fill-color: #174EA6;\n",
              "      --disabled-fill-color: #AAA;\n",
              "      --disabled-bg-color: #DDD;\n",
              "  }\n",
              "\n",
              "  [theme=dark] .colab-df-quickchart {\n",
              "      --bg-color: #3B4455;\n",
              "      --fill-color: #D2E3FC;\n",
              "      --hover-bg-color: #434B5C;\n",
              "      --hover-fill-color: #FFFFFF;\n",
              "      --disabled-bg-color: #3B4455;\n",
              "      --disabled-fill-color: #666;\n",
              "  }\n",
              "\n",
              "  .colab-df-quickchart {\n",
              "    background-color: var(--bg-color);\n",
              "    border: none;\n",
              "    border-radius: 50%;\n",
              "    cursor: pointer;\n",
              "    display: none;\n",
              "    fill: var(--fill-color);\n",
              "    height: 32px;\n",
              "    padding: 0;\n",
              "    width: 32px;\n",
              "  }\n",
              "\n",
              "  .colab-df-quickchart:hover {\n",
              "    background-color: var(--hover-bg-color);\n",
              "    box-shadow: 0 1px 2px rgba(60, 64, 67, 0.3), 0 1px 3px 1px rgba(60, 64, 67, 0.15);\n",
              "    fill: var(--button-hover-fill-color);\n",
              "  }\n",
              "\n",
              "  .colab-df-quickchart-complete:disabled,\n",
              "  .colab-df-quickchart-complete:disabled:hover {\n",
              "    background-color: var(--disabled-bg-color);\n",
              "    fill: var(--disabled-fill-color);\n",
              "    box-shadow: none;\n",
              "  }\n",
              "\n",
              "  .colab-df-spinner {\n",
              "    border: 2px solid var(--fill-color);\n",
              "    border-color: transparent;\n",
              "    border-bottom-color: var(--fill-color);\n",
              "    animation:\n",
              "      spin 1s steps(1) infinite;\n",
              "  }\n",
              "\n",
              "  @keyframes spin {\n",
              "    0% {\n",
              "      border-color: transparent;\n",
              "      border-bottom-color: var(--fill-color);\n",
              "      border-left-color: var(--fill-color);\n",
              "    }\n",
              "    20% {\n",
              "      border-color: transparent;\n",
              "      border-left-color: var(--fill-color);\n",
              "      border-top-color: var(--fill-color);\n",
              "    }\n",
              "    30% {\n",
              "      border-color: transparent;\n",
              "      border-left-color: var(--fill-color);\n",
              "      border-top-color: var(--fill-color);\n",
              "      border-right-color: var(--fill-color);\n",
              "    }\n",
              "    40% {\n",
              "      border-color: transparent;\n",
              "      border-right-color: var(--fill-color);\n",
              "      border-top-color: var(--fill-color);\n",
              "    }\n",
              "    60% {\n",
              "      border-color: transparent;\n",
              "      border-right-color: var(--fill-color);\n",
              "    }\n",
              "    80% {\n",
              "      border-color: transparent;\n",
              "      border-right-color: var(--fill-color);\n",
              "      border-bottom-color: var(--fill-color);\n",
              "    }\n",
              "    90% {\n",
              "      border-color: transparent;\n",
              "      border-bottom-color: var(--fill-color);\n",
              "    }\n",
              "  }\n",
              "</style>\n",
              "\n",
              "  <script>\n",
              "    async function quickchart(key) {\n",
              "      const quickchartButtonEl =\n",
              "        document.querySelector('#' + key + ' button');\n",
              "      quickchartButtonEl.disabled = true;  // To prevent multiple clicks.\n",
              "      quickchartButtonEl.classList.add('colab-df-spinner');\n",
              "      try {\n",
              "        const charts = await google.colab.kernel.invokeFunction(\n",
              "            'suggestCharts', [key], {});\n",
              "      } catch (error) {\n",
              "        console.error('Error during call to suggestCharts:', error);\n",
              "      }\n",
              "      quickchartButtonEl.classList.remove('colab-df-spinner');\n",
              "      quickchartButtonEl.classList.add('colab-df-quickchart-complete');\n",
              "    }\n",
              "    (() => {\n",
              "      let quickchartButtonEl =\n",
              "        document.querySelector('#df-63f3fbdb-aeeb-4e65-8cb1-de6f9ea6fd3a button');\n",
              "      quickchartButtonEl.style.display =\n",
              "        google.colab.kernel.accessAllowed ? 'block' : 'none';\n",
              "    })();\n",
              "  </script>\n",
              "</div>\n",
              "    </div>\n",
              "  </div>\n"
            ],
            "application/vnd.google.colaboratory.intrinsic+json": {
              "type": "dataframe",
              "variable_name": "df",
              "summary": "{\n  \"name\": \"df\",\n  \"rows\": 1338,\n  \"fields\": [\n    {\n      \"column\": \"age\",\n      \"properties\": {\n        \"dtype\": \"number\",\n        \"std\": 14,\n        \"min\": 18,\n        \"max\": 64,\n        \"num_unique_values\": 47,\n        \"samples\": [\n          21,\n          45,\n          36\n        ],\n        \"semantic_type\": \"\",\n        \"description\": \"\"\n      }\n    },\n    {\n      \"column\": \"bmi\",\n      \"properties\": {\n        \"dtype\": \"number\",\n        \"std\": 6.098186911679017,\n        \"min\": 15.96,\n        \"max\": 53.13,\n        \"num_unique_values\": 548,\n        \"samples\": [\n          23.18,\n          26.885,\n          29.26\n        ],\n        \"semantic_type\": \"\",\n        \"description\": \"\"\n      }\n    },\n    {\n      \"column\": \"children\",\n      \"properties\": {\n        \"dtype\": \"number\",\n        \"std\": 1,\n        \"min\": 0,\n        \"max\": 5,\n        \"num_unique_values\": 6,\n        \"samples\": [\n          0,\n          1,\n          4\n        ],\n        \"semantic_type\": \"\",\n        \"description\": \"\"\n      }\n    },\n    {\n      \"column\": \"charges\",\n      \"properties\": {\n        \"dtype\": \"number\",\n        \"std\": 12110.011236693994,\n        \"min\": 1121.8739,\n        \"max\": 63770.42801,\n        \"num_unique_values\": 1337,\n        \"samples\": [\n          8688.85885,\n          5708.867,\n          11436.73815\n        ],\n        \"semantic_type\": \"\",\n        \"description\": \"\"\n      }\n    },\n    {\n      \"column\": \"sex_male\",\n      \"properties\": {\n        \"dtype\": \"boolean\",\n        \"num_unique_values\": 2,\n        \"samples\": [\n          true,\n          false\n        ],\n        \"semantic_type\": \"\",\n        \"description\": \"\"\n      }\n    },\n    {\n      \"column\": \"smoker_yes\",\n      \"properties\": {\n        \"dtype\": \"boolean\",\n        \"num_unique_values\": 2,\n        \"samples\": [\n          false,\n          true\n        ],\n        \"semantic_type\": \"\",\n        \"description\": \"\"\n      }\n    },\n    {\n      \"column\": \"region_northwest\",\n      \"properties\": {\n        \"dtype\": \"boolean\",\n        \"num_unique_values\": 2,\n        \"samples\": [\n          true,\n          false\n        ],\n        \"semantic_type\": \"\",\n        \"description\": \"\"\n      }\n    },\n    {\n      \"column\": \"region_southeast\",\n      \"properties\": {\n        \"dtype\": \"boolean\",\n        \"num_unique_values\": 2,\n        \"samples\": [\n          true,\n          false\n        ],\n        \"semantic_type\": \"\",\n        \"description\": \"\"\n      }\n    },\n    {\n      \"column\": \"region_southwest\",\n      \"properties\": {\n        \"dtype\": \"boolean\",\n        \"num_unique_values\": 2,\n        \"samples\": [\n          false,\n          true\n        ],\n        \"semantic_type\": \"\",\n        \"description\": \"\"\n      }\n    }\n  ]\n}"
            }
          },
          "metadata": {},
          "execution_count": 51
        }
      ]
    },
    {
      "cell_type": "code",
      "source": [
        "# 9. Візуалізація важливості ознак\n",
        "if n <= 10:  # Відображаємо тільки якщо кількість ознак не надто велика\n",
        "    feature_importance = abs(w_final)\n",
        "    plt.figure(figsize=(10, 6))\n",
        "    plt.bar(range(n), feature_importance)\n",
        "    plt.xlabel('Індекс ознаки')\n",
        "    plt.ylabel('Абсолютне значення ваги')\n",
        "    plt.title('Важливість ознак')\n",
        "    plt.grid(True)\n",
        "    plt.show()"
      ],
      "metadata": {
        "colab": {
          "base_uri": "https://localhost:8080/",
          "height": 564
        },
        "id": "4CXagpBT-5Ep",
        "outputId": "3ed2e06a-c192-4520-913c-675faa50481c"
      },
      "execution_count": 48,
      "outputs": [
        {
          "output_type": "display_data",
          "data": {
            "text/plain": [
              "<Figure size 1000x600 with 1 Axes>"
            ],
            "image/png": "[encoded data removed]"
          },
          "metadata": {}
        }
      ]
    },
    {
      "cell_type": "markdown",
      "source": [
        "    8. Експериментування з гіперпараметрами\n",
        "        ◦ Змініть значення швидкості навчання (alpha) та кількості ітерацій\n",
        "        ◦ Дослідіть вплив різних підходів до нормалізації даних\n",
        "        ◦ Порівняйте результати з різними наборами ознак"
      ],
      "metadata": {
        "id": "KjfzCT8M1c-p"
      }
    },
    {
      "cell_type": "code",
      "source": [],
      "metadata": {
        "id": "AMB58tBs1e3n"
      },
      "execution_count": null,
      "outputs": []
    }
  ]
}